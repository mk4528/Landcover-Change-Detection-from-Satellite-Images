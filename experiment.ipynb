{
 "cells": [
  {
   "cell_type": "code",
   "execution_count": 1,
   "id": "1de6765b-f3d3-4554-9a45-ed706b3d83e5",
   "metadata": {},
   "outputs": [
    {
     "name": "stderr",
     "output_type": "stream",
     "text": [
      "2022-11-06 15:32:20.868626: I tensorflow/core/platform/cpu_feature_guard.cc:193] This TensorFlow binary is optimized with oneAPI Deep Neural Network Library (oneDNN) to use the following CPU instructions in performance-critical operations:  AVX2 AVX512F AVX512_VNNI FMA\n",
      "To enable them in other operations, rebuild TensorFlow with the appropriate compiler flags.\n",
      "2022-11-06 15:32:21.078882: I tensorflow/core/util/util.cc:169] oneDNN custom operations are on. You may see slightly different numerical results due to floating-point round-off errors from different computation orders. To turn them off, set the environment variable `TF_ENABLE_ONEDNN_OPTS=0`.\n",
      "2022-11-06 15:32:21.129168: E tensorflow/stream_executor/cuda/cuda_blas.cc:2981] Unable to register cuBLAS factory: Attempting to register factory for plugin cuBLAS when one has already been registered\n",
      "2022-11-06 15:32:22.105832: W tensorflow/stream_executor/platform/default/dso_loader.cc:64] Could not load dynamic library 'libnvinfer.so.7'; dlerror: libnvinfer.so.7: cannot open shared object file: No such file or directory; LD_LIBRARY_PATH: :/home/hegelim/miniconda3/envs/tensorflow/lib/\n",
      "2022-11-06 15:32:22.106027: W tensorflow/stream_executor/platform/default/dso_loader.cc:64] Could not load dynamic library 'libnvinfer_plugin.so.7'; dlerror: libnvinfer_plugin.so.7: cannot open shared object file: No such file or directory; LD_LIBRARY_PATH: :/home/hegelim/miniconda3/envs/tensorflow/lib/\n",
      "2022-11-06 15:32:22.106108: W tensorflow/compiler/tf2tensorrt/utils/py_utils.cc:38] TF-TRT Warning: Cannot dlopen some TensorRT libraries. If you would like to use Nvidia GPU with TensorRT, please make sure the missing libraries mentioned above are installed properly.\n"
     ]
    }
   ],
   "source": [
    "from tensorflow import keras"
   ]
  },
  {
   "cell_type": "code",
   "execution_count": 2,
   "id": "b7612663-bb55-4a59-8a5e-56e9f196f555",
   "metadata": {},
   "outputs": [
    {
     "data": {
      "text/plain": [
       "array([[21, 21, 21, ..., 41, 41, 41],\n",
       "       [21, 21, 21, ..., 41, 41, 41],\n",
       "       [21, 21, 21, ..., 41, 41, 41],\n",
       "       ...,\n",
       "       [41, 41, 41, ..., 41, 41, 41],\n",
       "       [41, 41, 41, ..., 41, 41, 41],\n",
       "       [41, 41, 41, ..., 41, 41, 41]], dtype=uint8)"
      ]
     },
     "execution_count": 2,
     "metadata": {},
     "output_type": "execute_result"
    }
   ],
   "source": [
    "from skimage import io\n",
    "\n",
    "nlcd_test = io.imread(\"NAIP_NLCD_train_2013/NLCD/img/496_1.png\")\n",
    "nlcd_test"
   ]
  },
  {
   "cell_type": "code",
   "execution_count": 11,
   "id": "86a1af40-ce46-4e59-9841-120fe72b938a",
   "metadata": {},
   "outputs": [],
   "source": [
    "import utils\n",
    "import numpy as np"
   ]
  },
  {
   "cell_type": "code",
   "execution_count": 8,
   "id": "f17f3251-0484-4f99-a7c4-cab47e0106f1",
   "metadata": {},
   "outputs": [],
   "source": [
    "def nlcd_preprocess(img):\n",
    "    # map from orignal ints to ints within 0 to 5\n",
    "    remapper = lambda x: utils.nlcd_2_int_mapping[x]\n",
    "    return np.vectorize(remapper)(img)"
   ]
  },
  {
   "cell_type": "code",
   "execution_count": 12,
   "id": "d4837d16-ca49-4170-a101-4c509876427c",
   "metadata": {},
   "outputs": [
    {
     "data": {
      "text/plain": [
       "array([[2, 2, 2, ..., 1, 1, 1],\n",
       "       [2, 2, 2, ..., 1, 1, 1],\n",
       "       [2, 2, 2, ..., 1, 1, 1],\n",
       "       ...,\n",
       "       [1, 1, 1, ..., 1, 1, 1],\n",
       "       [1, 1, 1, ..., 1, 1, 1],\n",
       "       [1, 1, 1, ..., 1, 1, 1]])"
      ]
     },
     "execution_count": 12,
     "metadata": {},
     "output_type": "execute_result"
    }
   ],
   "source": [
    "nlcd_test = nlcd_preprocess(nlcd_test)\n",
    "nlcd_test"
   ]
  },
  {
   "cell_type": "code",
   "execution_count": 4,
   "id": "66ab58ea-c474-4f58-9342-e2b707abd41e",
   "metadata": {},
   "outputs": [],
   "source": [
    "layer = keras.layers.CategoryEncoding(num_tokens=5, output_mode=\"one_hot\")"
   ]
  },
  {
   "cell_type": "code",
   "execution_count": 15,
   "id": "eacb052f-fcfb-4795-8c08-094332e776d3",
   "metadata": {},
   "outputs": [
    {
     "data": {
      "text/plain": [
       "(256, 256, 5)"
      ]
     },
     "execution_count": 15,
     "metadata": {},
     "output_type": "execute_result"
    }
   ],
   "source": [
    "a = keras.utils.to_categorical(nlcd_test, num_classes=5)\n",
    "a.shape"
   ]
  },
  {
   "cell_type": "code",
   "execution_count": 17,
   "id": "45fce178-fcb5-4d81-ad7c-998c6491eecd",
   "metadata": {},
   "outputs": [
    {
     "data": {
      "text/plain": [
       "2"
      ]
     },
     "execution_count": 17,
     "metadata": {},
     "output_type": "execute_result"
    }
   ],
   "source": [
    "nlcd_test[0][0]"
   ]
  },
  {
   "cell_type": "code",
   "execution_count": 18,
   "id": "a6321752-3e3f-4233-baf9-47517d0a4f5a",
   "metadata": {},
   "outputs": [
    {
     "data": {
      "text/plain": [
       "array([0., 0., 1., 0., 0.], dtype=float32)"
      ]
     },
     "execution_count": 18,
     "metadata": {},
     "output_type": "execute_result"
    }
   ],
   "source": [
    "a[0][0]"
   ]
  }
 ],
 "metadata": {
  "kernelspec": {
   "display_name": "Python 3 (ipykernel)",
   "language": "python",
   "name": "python3"
  },
  "language_info": {
   "codemirror_mode": {
    "name": "ipython",
    "version": 3
   },
   "file_extension": ".py",
   "mimetype": "text/x-python",
   "name": "python",
   "nbconvert_exporter": "python",
   "pygments_lexer": "ipython3",
   "version": "3.9.13"
  }
 },
 "nbformat": 4,
 "nbformat_minor": 5
}
