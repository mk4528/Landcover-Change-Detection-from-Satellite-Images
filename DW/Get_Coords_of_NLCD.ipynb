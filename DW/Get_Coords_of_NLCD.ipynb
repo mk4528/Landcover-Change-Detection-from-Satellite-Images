{
  "cells": [
    {
      "cell_type": "code",
      "execution_count": null,
      "metadata": {
        "id": "9nibjvqQLKLT"
      },
      "outputs": [],
      "source": [
        "import os\n",
        "from osgeo import gdal,ogr,osr\n",
        "from tqdm import tqdm\n",
        "import re\n",
        "import pickle"
      ]
    },
    {
      "cell_type": "code",
      "execution_count": null,
      "metadata": {
        "id": "b9pEfPfUMeiF"
      },
      "outputs": [],
      "source": [
        "def calc_map_LonLat(nlcd_path):\n",
        "    def intermidiate_calc(extracted_xy):\n",
        "        ms  = re.search('\\..*\"',  extracted_xy).group()[1:-1]\n",
        "        sec = re.search('\\'.*\\.', extracted_xy).group()[1:-1]\n",
        "        min = re.search('d.*\\'',  extracted_xy).group()[1:-1]\n",
        "        deg = re.search('.*d',    extracted_xy).group()[0:-1]\n",
        "        return(int(deg) + int(min) / 60 + int(sec) / 3600 + int(ms) / 3600000)\n",
        "    \n",
        "    def calc_mapXY(extracted_UL_LR):\n",
        "        mapX = - intermidiate_calc(re.search('\\).*W', extracted_UL_LR).group()[3:-1])\n",
        "        mapY =   intermidiate_calc(re.search('W,.*N', extracted_UL_LR).group()[2:-1])\n",
        "        return(mapX, mapY)\n",
        "\n",
        "    txt = gdal.Info(nlcd_path)\n",
        "    extracted_UL = re.search('Upper Left.*\\nLower Left', txt).group()\n",
        "    extracted_LR = re.search('Lower Right.*\\nCenter', txt).group()\n",
        "    _mapXmin_, _mapYmax_ = calc_mapXY(extracted_UL)\n",
        "    _mapXmax_, _mapYmin_ = calc_mapXY(extracted_LR)\n",
        "\n",
        "    return(_mapXmin_,_mapYmin_, _mapXmax_, _mapYmax_)"
      ]
    },
    {
      "cell_type": "code",
      "execution_count": null,
      "metadata": {
        "id": "sK0sg0UeLPvA"
      },
      "outputs": [],
      "source": [
        "df = pd.read_csv('/content/drive/MyDrive/training_set_naip_nlcd_both.csv')\n",
        "df = df[df.group == 0] "
      ]
    },
    {
      "cell_type": "code",
      "execution_count": null,
      "metadata": {
        "colab": {
          "background_save": true
        },
        "id": "rEiGJxQ5LQR7"
      },
      "outputs": [],
      "source": [
        "os.makedirs('./data', exist_ok=True)\n",
        "\n",
        "!rm -rf ./data/label/*\n",
        "\n",
        "df['label_fn'].to_csv('./data/label_fns.txt', header=False, index=False)\n",
        "\n",
        "!wget --quiet -P ./data/label -i ./data/label_fns.txt"
      ]
    },
    {
      "cell_type": "code",
      "execution_count": null,
      "metadata": {
        "colab": {
          "base_uri": "https://localhost:8080/"
        },
        "id": "YvB5S98OLQYG",
        "outputId": "67da6fe2-af51-4dcb-ce52-8fd0faf3dc47"
      },
      "outputs": [
        {
          "output_type": "stream",
          "name": "stderr",
          "text": [
            "100%|██████████| 2250/2250 [00:11<00:00, 195.65it/s]\n"
          ]
        }
      ],
      "source": [
        "coors = []\n",
        "for file in tqdm(sorted([file for file in os.listdir('./data/label/') if file.endswith('.tif')])):\n",
        "    f_path = os.path.join('./data/label/', file)\n",
        "    ds = gdal.Open(f_path, gdal.GA_ReadOnly)\n",
        "\n",
        "    _mapXmin_,_mapYmin_, _mapXmax_, _mapYmax_ = calc_map_LonLat(f_path)\n",
        "\n",
        "    xdim = ds.RasterXSize\n",
        "    ydim = ds.RasterYSize\n",
        "    \n",
        "    if xdim % 10 == 0:\n",
        "        dw_xdim = xdim // 10\n",
        "    else:\n",
        "        dw_xdim = xdim\n",
        "    \n",
        "    if ydim % 10 == 0:\n",
        "        dw_ydim = ydim // 10\n",
        "    else:\n",
        "        dw_ydim = ydim        \n",
        "\n",
        "    dw_name = re.search('\\d+_',  file).group()[:-1]\n",
        "    \n",
        "    coorset = [dw_name, xdim, ydim, dw_xdim, dw_ydim, [_mapXmin_,_mapYmin_, _mapXmax_, _mapYmax_]]\n",
        "    coors.append(coorset)"
      ]
    },
    {
      "cell_type": "code",
      "execution_count": null,
      "metadata": {
        "id": "0-E7Fw7ALQdt"
      },
      "outputs": [],
      "source": [
        "f = open('./drive/MyDrive/coor.txt', 'wb')\n",
        "pickle.dump(coors, f)"
      ]
    }
  ],
  "metadata": {
    "colab": {
      "collapsed_sections": [],
      "provenance": []
    },
    "kernelspec": {
      "display_name": "Python 3",
      "name": "python3"
    },
    "language_info": {
      "name": "python"
    }
  },
  "nbformat": 4,
  "nbformat_minor": 0
}