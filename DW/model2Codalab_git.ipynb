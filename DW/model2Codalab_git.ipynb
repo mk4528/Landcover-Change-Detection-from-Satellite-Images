{
  "cells": [
    {
      "cell_type": "code",
      "source": [
        "# !pip install rasterio"
      ],
      "metadata": {
        "id": "xGdscLmcNYAG",
        "colab": {
          "base_uri": "https://localhost:8080/"
        },
        "outputId": "47f07e08-b9c5-4a70-f58c-398247f51aa8"
      },
      "execution_count": null,
      "outputs": [
        {
          "output_type": "stream",
          "name": "stdout",
          "text": [
            "Looking in indexes: https://pypi.org/simple, https://us-python.pkg.dev/colab-wheels/public/simple/\n",
            "Collecting rasterio\n",
            "  Downloading rasterio-1.3.4-cp38-cp38-manylinux_2_17_x86_64.manylinux2014_x86_64.whl (20.9 MB)\n",
            "\u001b[K     |████████████████████████████████| 20.9 MB 87.9 MB/s \n",
            "\u001b[?25hCollecting cligj>=0.5\n",
            "  Downloading cligj-0.7.2-py3-none-any.whl (7.1 kB)\n",
            "Requirement already satisfied: certifi in /usr/local/lib/python3.8/dist-packages (from rasterio) (2022.9.24)\n",
            "Requirement already satisfied: attrs in /usr/local/lib/python3.8/dist-packages (from rasterio) (22.1.0)\n",
            "Requirement already satisfied: click>=4.0 in /usr/local/lib/python3.8/dist-packages (from rasterio) (7.1.2)\n",
            "Requirement already satisfied: setuptools in /usr/local/lib/python3.8/dist-packages (from rasterio) (57.4.0)\n",
            "Requirement already satisfied: numpy>=1.18 in /usr/local/lib/python3.8/dist-packages (from rasterio) (1.21.6)\n",
            "Collecting click-plugins\n",
            "  Downloading click_plugins-1.1.1-py2.py3-none-any.whl (7.5 kB)\n",
            "Collecting snuggs>=1.4.1\n",
            "  Downloading snuggs-1.4.7-py3-none-any.whl (5.4 kB)\n",
            "Collecting affine\n",
            "  Downloading affine-2.3.1-py2.py3-none-any.whl (16 kB)\n",
            "Requirement already satisfied: pyparsing>=2.1.6 in /usr/local/lib/python3.8/dist-packages (from snuggs>=1.4.1->rasterio) (3.0.9)\n",
            "Installing collected packages: snuggs, cligj, click-plugins, affine, rasterio\n",
            "Successfully installed affine-2.3.1 click-plugins-1.1.1 cligj-0.7.2 rasterio-1.3.4 snuggs-1.4.7\n"
          ]
        }
      ]
    },
    {
      "cell_type": "code",
      "source": [
        "model_path = '/content/drive/MyDrive/JPMC3-2-pt2y/basemodels_DA_nlcdonly/fcn_221114_final'\n",
        "model2_path = None\n",
        "# model2_path = '/content/drive/MyDrive/JPMC3-2-pt2y/basemodels_DA_dwonly_softlabel/fcn_221114_final'\n",
        "\n",
        "\n",
        "submission_zip_name = model_path.split('/')[-2]\n",
        "if model2_path != None:\n",
        "    submission_zip_name = submission_zip_name + '+' + model2_path.split('/')[-2]\n",
        "submission_zip_name"
      ],
      "metadata": {
        "colab": {
          "base_uri": "https://localhost:8080/",
          "height": 36
        },
        "id": "oStGBTQWLons",
        "outputId": "1abda51a-13c7-43aa-dee7-f5ab4643aec0"
      },
      "execution_count": null,
      "outputs": [
        {
          "output_type": "execute_result",
          "data": {
            "text/plain": [
              "'basemodels_DA_nlcdonly'"
            ],
            "application/vnd.google.colaboratory.intrinsic+json": {
              "type": "string"
            }
          },
          "metadata": {},
          "execution_count": 2
        }
      ]
    },
    {
      "cell_type": "code",
      "execution_count": null,
      "metadata": {
        "id": "abXz7NU8xvCj"
      },
      "outputs": [],
      "source": [
        "import os\n",
        "import shutil\n",
        "import time\n",
        "import random\n",
        "import math\n",
        "import re\n",
        "import sys\n",
        "import gc\n",
        "import rasterio\n",
        "import datetime\n",
        "import argparse\n",
        "\n",
        "import numpy as np\n",
        "import pandas as pd\n",
        "import matplotlib.pyplot as plt\n",
        "\n",
        "import torch\n",
        "import torch.nn as nn\n",
        "import torch.nn.functional as F\n",
        "import torch.optim as optim\n",
        "\n",
        "from osgeo import gdal, ogr, osr\n",
        "\n",
        "from tqdm import tqdm"
      ]
    },
    {
      "cell_type": "code",
      "execution_count": null,
      "metadata": {
        "colab": {
          "base_uri": "https://localhost:8080/"
        },
        "id": "l3Pu-4m92HYH",
        "outputId": "46343db5-ba65-4f6b-a6fe-a758489ddeee"
      },
      "outputs": [
        {
          "output_type": "stream",
          "name": "stdout",
          "text": [
            "Mounted at /content/drive\n"
          ]
        }
      ],
      "source": [
        "from google.colab import drive\n",
        "drive.mount('/content/drive')"
      ]
    },
    {
      "cell_type": "code",
      "source": [
        "!nvidia-smi"
      ],
      "metadata": {
        "colab": {
          "base_uri": "https://localhost:8080/"
        },
        "id": "GR3WuyGkVPkU",
        "outputId": "c00fe731-5320-4a24-eda3-76a96260f73c"
      },
      "execution_count": null,
      "outputs": [
        {
          "output_type": "stream",
          "name": "stdout",
          "text": [
            "Fri Dec 16 04:44:09 2022       \n",
            "+-----------------------------------------------------------------------------+\n",
            "| NVIDIA-SMI 460.32.03    Driver Version: 460.32.03    CUDA Version: 11.2     |\n",
            "|-------------------------------+----------------------+----------------------+\n",
            "| GPU  Name        Persistence-M| Bus-Id        Disp.A | Volatile Uncorr. ECC |\n",
            "| Fan  Temp  Perf  Pwr:Usage/Cap|         Memory-Usage | GPU-Util  Compute M. |\n",
            "|                               |                      |               MIG M. |\n",
            "|===============================+======================+======================|\n",
            "|   0  A100-SXM4-40GB      Off  | 00000000:00:04.0 Off |                    0 |\n",
            "| N/A   28C    P0    51W / 400W |      0MiB / 40536MiB |      0%      Default |\n",
            "|                               |                      |             Disabled |\n",
            "+-------------------------------+----------------------+----------------------+\n",
            "                                                                               \n",
            "+-----------------------------------------------------------------------------+\n",
            "| Processes:                                                                  |\n",
            "|  GPU   GI   CI        PID   Type   Process name                  GPU Memory |\n",
            "|        ID   ID                                                   Usage      |\n",
            "|=============================================================================|\n",
            "|  No running processes found                                                 |\n",
            "+-----------------------------------------------------------------------------+\n"
          ]
        }
      ]
    },
    {
      "cell_type": "code",
      "source": [
        "SEED_NUM = 3\n",
        "\n",
        "SPL_WH = 388\n",
        "NUM_SPLITS = int(3880 / SPL_WH) # Train in 1 epoch using image in (NUM_SPLITS ** 2, 4, 3880 / NUM_SPLITS, 3880 / NUM_SPLITS)\n",
        "\n",
        "ROOT_PATH = '/content/'\n",
        "MAIN_DIRECTORY =  ROOT_PATH + 'drive/MyDrive/JPMC3-2-pt2y' # Set the directory to save and load files"
      ],
      "metadata": {
        "id": "qXw_H-r__fRF"
      },
      "execution_count": null,
      "outputs": []
    },
    {
      "cell_type": "code",
      "source": [
        "# Not need to change these path unless you  want to\n",
        "\n",
        "CODALAB_NAIP_DIRECTORY = MAIN_DIRECTORY + '/data/codalab_test_image/'\n",
        "CODALAB_PRED_DIRECTORY = ROOT_PATH + 'codalab_test_prediction/'\n",
        "CODALAB_SUBMISSION_DIRECTORY = ROOT_PATH + 'codalab_test_submission/'\n",
        "CODALAB_SUBMISSION_ZIP_DIRECTORY = MAIN_DIRECTORY + '/codalab_submission/'"
      ],
      "metadata": {
        "id": "NwU8_Y1411uY"
      },
      "execution_count": null,
      "outputs": []
    },
    {
      "cell_type": "code",
      "execution_count": null,
      "metadata": {
        "id": "MgwcHEEQo_xo"
      },
      "outputs": [],
      "source": [
        "NLCD_CLASSES = [0, 11, 12, 21, 22, 23, 24, 31, 41, 42, 43, 52, 71, 81, 82, 90, 95] # 16 classes + 1 nodata class (\"0\").\n",
        "NUM_DFC2021_CLASS = 5 # Output classes (0: Water, 1: Tree Canopy, 2: Low Vegetation , 3: Impervious, 4: None)\n",
        "NLCD_IDX_TO_REDUCED_LC_MAP = np.array([\n",
        "    4,#  0 No data 0\n",
        "    0,#  1 Open Water\n",
        "    4,#  2 Ice/Snow\n",
        "    2,#  3 Developed Open Space\n",
        "    3,#  4 Developed Low Intensity\n",
        "    3,#  5 Developed Medium Intensity\n",
        "    3,#  6 Developed High Intensity\n",
        "    3,#  7 Barren Land\n",
        "    1,#  8 Deciduous Forest\n",
        "    1,#  9 Evergreen Forest\n",
        "    1,# 10 Mixed Forest\n",
        "    1,# 11 Shrub/Scrub\n",
        "    2,# 12 Grassland/Herbaceous\n",
        "    2,# 13 Pasture/Hay\n",
        "    2,# 14 Cultivated Crops\n",
        "    1,# 15 Woody Wetlands\n",
        "    1,# 16 Emergent Herbaceious Wetlands\n",
        "])\n",
        "\n",
        "# set rescaling weights given to each class in loss function based on the distribution of target classes,\n",
        "# (W, TC, LV, I) = (0.09, 0.453, 0.376, 0.081), and considering the percentage of None as 1/5 = 0.2\n",
        "LOSS_WEIGHT = 1 / np.array([0.09, 0.453, 0.376, 0.081, 0.2]) / 5"
      ]
    },
    {
      "cell_type": "code",
      "source": [
        "def padding(image_np, rgb_or_gray = \"rgb\", image_or_label = \"image\", return_pad_width = False):\n",
        "    if (image_or_label == \"image\") & (rgb_or_gray == \"rgb\"):\n",
        "        width, height = image_np.shape[1], image_np.shape[2]\n",
        "    else:\n",
        "        width, height = image_np.shape[0], image_np.shape[1]\n",
        "\n",
        "    pw_x_bef = int((3880 - width) / 2)\n",
        "    pw_x_aft = 3880 - width - pw_x_bef\n",
        "    pw_y_bef = int((3880 - height) / 2)\n",
        "    pw_y_aft = 3880 - height - pw_y_bef\n",
        "    \n",
        "    if rgb_or_gray == \"rgb\":\n",
        "        if image_or_label == \"image\":\n",
        "            pad_width = ((0, 0), (pw_x_bef, pw_x_aft), (pw_y_bef, pw_y_aft))\n",
        "        elif image_or_label == \"label\":\n",
        "            pad_width = ((pw_x_bef, pw_x_aft), (pw_y_bef, pw_y_aft), (0, 0))\n",
        "        else:\n",
        "            print ('Specify image_or_label by \"image\" or \"label\"')\n",
        "            sys.exit(1)\n",
        "\n",
        "        image_np = np.pad(image_np, pad_width,\n",
        "                          constant_values = ((0, 0), (0, 0), (0, 0)))\n",
        "    elif rgb_or_gray == \"gray\": # if rgb_or_gray == \"gray\", image_or_label = \"label\"\n",
        "        image_np = np.pad(image_np, ((pw_x_bef, pw_x_aft), (pw_y_bef, pw_y_aft)),\n",
        "                          constant_values = ((4, 4), (4, 4)))\n",
        "    else:\n",
        "        print ('Specify rgb_or_gray by \"rgb\" or \"gray\"')\n",
        "        sys.exit(1)\n",
        "    \n",
        "    if return_pad_width:\n",
        "        return(image_np, pw_x_bef, pw_x_aft, pw_y_bef, pw_y_aft)\n",
        "    else:\n",
        "        return(image_np)\n",
        "\n",
        "def make_test_data(image_path, image_loader, return_pad_width = False):\n",
        "    test_image_np_s = []\n",
        "    pad_width = {'pw_x_bef': [], 'pw_x_aft': [], 'pw_y_bef': [], 'pw_y_aft': []}\n",
        "    for file in image_loader:\n",
        "        ds = gdal.Open(os.path.join(image_path, file), gdal.GA_ReadOnly)\n",
        "        test_image_np = np.array([ds.GetRasterBand(i + 1).ReadAsArray() for i in range(ds.RasterCount)])\n",
        "        \n",
        "        if return_pad_width:\n",
        "            test_image_np, pw_x_bef, pw_x_aft, pw_y_bef, pw_y_aft = \\\n",
        "                    padding(test_image_np, rgb_or_gray = \"rgb\", image_or_label = \"image\", return_pad_width = return_pad_width)\n",
        "            pad_width['pw_x_bef'].append(pw_x_bef)\n",
        "            pad_width['pw_x_aft'].append(pw_x_aft)\n",
        "            pad_width['pw_y_bef'].append(pw_y_bef)\n",
        "            pad_width['pw_y_aft'].append(pw_y_aft)\n",
        "        else:\n",
        "            test_image_np = padding(test_image_np, rgb_or_gray = \"rgb\", image_or_label = \"image\", return_pad_width = return_pad_width)\n",
        "        \n",
        "        for i in range(NUM_SPLITS):\n",
        "            for ii in range(NUM_SPLITS):\n",
        "                test_image_np_s.append(test_image_np[:, i * SPL_WH:(i + 1) * SPL_WH, ii * SPL_WH:(ii + 1) * SPL_WH])\n",
        "            if 3880 % SPL_WH > 0:\n",
        "                test_image_np_s.append(test_image_np[:, i * SPL_WH:(i + 1) * SPL_WH, ii * SPL_WH + 3880 % SPL_WH:(ii + 1) * SPL_WH + 3880 % SPL_WH])\n",
        "        if 3880 % SPL_WH > 0:\n",
        "            for ii in range(NUM_SPLITS):\n",
        "                test_image_np_s.append(test_image_np[:, i * SPL_WH + 3880 % SPL_WH:(i + 1) * SPL_WH + 3880 % SPL_WH, ii * SPL_WH:(ii + 1) * SPL_WH])\n",
        "            test_image_np_s.append(test_image_np[:, i * SPL_WH + 3880 % SPL_WH:(i + 1) * SPL_WH + 3880 % SPL_WH, ii * SPL_WH + 3880 % SPL_WH:(ii + 1) * SPL_WH + 3880 % SPL_WH])\n",
        "\n",
        "\n",
        "    test_image_np_s = np.array(test_image_np_s) / 255\n",
        "    if 3880 % SPL_WH == 0:\n",
        "        assert test_image_np_s.shape == (len(image_loader) * NUM_SPLITS ** 2, 4, SPL_WH, SPL_WH)\n",
        "    else:\n",
        "        assert test_image_np_s.shape == (len(image_loader) * (NUM_SPLITS + 1) ** 2, 4, SPL_WH, SPL_WH)\n",
        "\n",
        "    test_data = torch.from_numpy(test_image_np_s).float().to(device)\n",
        "    if return_pad_width:\n",
        "        return(test_data, test_image_np_s, pad_width)\n",
        "    else:\n",
        "        return(test_data, test_image_np_s)\n",
        "\n",
        "def make_test_targets(label_path):\n",
        "    test_label_np_s = []\n",
        "    test_label_loader = sorted([file for file in os.listdir(label_path) if file.endswith('.npy') & (file.find(\"gray\") > -1)])\n",
        "    for file in test_label_loader:\n",
        "        test_label_np = np.load(os.path.join(label_path, file), gdal.GA_ReadOnly)\n",
        "        test_label_np = padding(test_label_np, rgb_or_gray = \"gray\", image_or_label = \"label\")\n",
        "        for i in range(NUM_SPLITS):\n",
        "            for ii in range(NUM_SPLITS):\n",
        "                test_label_np_s.append(test_label_np[i * SPL_WH:(i + 1) * SPL_WH, ii * SPL_WH:(ii + 1) * SPL_WH])\n",
        "            if 3880 % SPL_WH > 0:\n",
        "                test_label_np_s.append(test_label_np[i * SPL_WH:(i + 1) * SPL_WH, ii * SPL_WH + 3880 % SPL_WH:(ii + 1) * SPL_WH + 3880 % SPL_WH])\n",
        "        if 3880 % SPL_WH > 0:\n",
        "            for ii in range(NUM_SPLITS):\n",
        "                test_label_np_s.append(test_label_np[i * SPL_WH + 3880 % SPL_WH:(i + 1) * SPL_WH + 3880 % SPL_WH, ii * SPL_WH:(ii + 1) * SPL_WH])\n",
        "            test_label_np_s.append(test_label_np[i * SPL_WH + 3880 % SPL_WH:(i + 1) * SPL_WH + 3880 % SPL_WH, ii * SPL_WH + 3880 % SPL_WH:(ii + 1) * SPL_WH + 3880 % SPL_WH])\n",
        "\n",
        "    test_label_np_s = np.array(test_label_np_s)\n",
        "    if 3880 % SPL_WH == 0:\n",
        "        assert test_label_np_s.shape == (len(test_label_loader) * NUM_SPLITS ** 2, SPL_WH, SPL_WH)\n",
        "    else:\n",
        "        assert test_label_np_s.shape == (len(test_label_loader) * (NUM_SPLITS + 1) ** 2, SPL_WH, SPL_WH)\n",
        "\n",
        "    test_targets = torch.from_numpy(test_label_np_s).type(torch.LongTensor).to(device)\n",
        "    return(test_targets, test_label_np_s)\n",
        "\n",
        "def reshape_data(data):\n",
        "    num_data = int(data.shape[0] / NUM_SPLITS ** 2)\n",
        "    if 3880 % SPL_WH > 0:\n",
        "        if data.ndim == 4:\n",
        "            reshaped_data = np.empty((0, 4, 3880, 3880))\n",
        "            for n in range(num_data):\n",
        "                reshaped_data_r = np.empty((1, 4, 0, 3880))\n",
        "                for i in range(NUM_SPLITS):\n",
        "                    reshaped_data_c = np.empty((1, 4, SPL_WH, 0))\n",
        "                    for ii in range(NUM_SPLITS):\n",
        "                        reshaped_data_c = np.append(reshaped_data_c, data[[n * (NUM_SPLITS + 1) ** 2 + i * (NUM_SPLITS + 1) + ii], :, :, :], 3)\n",
        "                    reshaped_data_c = np.append(reshaped_data_c, data[[n * (NUM_SPLITS + 1) ** 2 + i * (NUM_SPLITS + 1) + ii + 1], :, :, -3880 % SPL_WH:], 3)\n",
        "                    reshaped_data_r = np.append(reshaped_data_r, reshaped_data_c, 2)\n",
        "                reshaped_data_c = np.empty((1, 4, 3880 % SPL_WH, 0))\n",
        "                for ii in range(NUM_SPLITS):\n",
        "                    reshaped_data_c = np.append(reshaped_data_c, data[[n * (NUM_SPLITS + 1) ** 2 + (i + 1) * (NUM_SPLITS + 1) + ii], :, -3880 % SPL_WH:, :], 3)\n",
        "                reshaped_data_c = np.append(reshaped_data_c, data[[n * (NUM_SPLITS + 1) ** 2 + (i + 1) * (NUM_SPLITS + 1) + ii + 1], :, -3880 % SPL_WH:, -3880 % SPL_WH:], 3)\n",
        "                reshaped_data_r = np.append(reshaped_data_r, reshaped_data_c, 2)\n",
        "                reshaped_data = np.append(reshaped_data, reshaped_data_r, 0)\n",
        "        else:\n",
        "            reshaped_data = np.empty((0, 3880, 3880))\n",
        "            for n in range(num_data):\n",
        "                reshaped_data_r = np.empty((1, 0, 3880))\n",
        "                for i in range(NUM_SPLITS):\n",
        "                    reshaped_data_c = np.empty((1, SPL_WH, 0))\n",
        "                    for ii in range(NUM_SPLITS):\n",
        "                        reshaped_data_c = np.append(reshaped_data_c, data[[n * (NUM_SPLITS + 1) ** 2 + i * (NUM_SPLITS + 1) + ii], :, :], 2)\n",
        "                    reshaped_data_c = np.append(reshaped_data_c, data[[n * (NUM_SPLITS + 1) ** 2 + i * (NUM_SPLITS + 1) + ii + 1], :, -3880 % SPL_WH:], 2)\n",
        "                    reshaped_data_r = np.append(reshaped_data_r, reshaped_data_c, 1)\n",
        "                reshaped_data_c = np.empty((1, 3880 % SPL_WH, 0))\n",
        "                for ii in range(NUM_SPLITS):\n",
        "                    reshaped_data_c = np.append(reshaped_data_c, data[[n * (NUM_SPLITS + 1) ** 2 + (i + 1) * (NUM_SPLITS + 1) + ii], -3880 % SPL_WH:, :], 2)\n",
        "                reshaped_data_c = np.append(reshaped_data_c, data[[n * (NUM_SPLITS + 1) ** 2 + (i + 1) * (NUM_SPLITS + 1) + ii + 1], -3880 % SPL_WH:, -3880 % SPL_WH:], 2)\n",
        "                reshaped_data_r = np.append(reshaped_data_r, reshaped_data_c, 1)\n",
        "                reshaped_data = np.append(reshaped_data, reshaped_data_r, 0)\n",
        "    else:\n",
        "        if data.ndim == 4:\n",
        "            reshaped_data = np.empty((0, 4, 3880, 3880))\n",
        "            for n in range(num_data):\n",
        "                reshaped_data_r = np.empty((1, 4, 0, 3880))\n",
        "                for i in range(NUM_SPLITS):\n",
        "                    reshaped_data_c = np.empty((1, 4, SPL_WH, 0))\n",
        "                    for ii in range(NUM_SPLITS):\n",
        "                        reshaped_data_c = np.append(reshaped_data_c, data[[n * NUM_SPLITS ** 2 + i * NUM_SPLITS + ii], :, :, :], 3)\n",
        "                    reshaped_data_r = np.append(reshaped_data_r, reshaped_data_c, 2)\n",
        "                reshaped_data = np.append(reshaped_data, reshaped_data_r, 0)\n",
        "        else:\n",
        "            reshaped_data = np.empty((0, 3880, 3880))\n",
        "            for n in range(num_data):\n",
        "                reshaped_data_r = np.empty((1, 0, 3880))\n",
        "                for i in range(NUM_SPLITS):\n",
        "                    reshaped_data_c = np.empty((1, SPL_WH, 0))\n",
        "                    for ii in range(NUM_SPLITS):\n",
        "                        reshaped_data_c = np.append(reshaped_data_c, data[[n * NUM_SPLITS ** 2 + i * NUM_SPLITS + ii], :, :], 2)\n",
        "                    reshaped_data_r = np.append(reshaped_data_r, reshaped_data_c, 1)\n",
        "                reshaped_data = np.append(reshaped_data, reshaped_data_r, 0)\n",
        "\n",
        "    return(reshaped_data)"
      ],
      "metadata": {
        "id": "UZBbAklgYQqk"
      },
      "execution_count": null,
      "outputs": []
    },
    {
      "cell_type": "markdown",
      "metadata": {
        "id": "Mf8JNvyNUyDN"
      },
      "source": [
        "# Make a zip file for submission to [Codalab](https://codalab.lisn.upsaclay.fr/competitions/7908)\n",
        "\n",
        "Codalab can then compute the test IoU(s) in exactly the same way as the DFC2021 contest.\n"
      ]
    },
    {
      "cell_type": "code",
      "source": [
        "# Use the git implementation of the 3rd place team of the DFC 2021 contest (as base-line model git does not include test_tiles.txt used below).\n",
        "!git clone https://github.com/baoqianyue/DFC2021-Track-MSD.git"
      ],
      "metadata": {
        "colab": {
          "base_uri": "https://localhost:8080/"
        },
        "id": "HRouwCkg-V2B",
        "outputId": "f8c03a2e-411e-43f6-8771-225c23f845ac"
      },
      "execution_count": null,
      "outputs": [
        {
          "output_type": "stream",
          "name": "stdout",
          "text": [
            "Cloning into 'DFC2021-Track-MSD'...\n",
            "remote: Enumerating objects: 65, done.\u001b[K\n",
            "remote: Counting objects: 100% (65/65), done.\u001b[K\n",
            "remote: Compressing objects: 100% (47/47), done.\u001b[K\n",
            "remote: Total 65 (delta 21), reused 58 (delta 17), pack-reused 0\u001b[K\n",
            "Unpacking objects: 100% (65/65), done.\n"
          ]
        }
      ]
    },
    {
      "cell_type": "code",
      "source": [
        "%cd /content/"
      ],
      "metadata": {
        "id": "MWPNv-GtzIDy",
        "colab": {
          "base_uri": "https://localhost:8080/"
        },
        "outputId": "d6abf505-b0ee-48a0-c144-034629b7cda7"
      },
      "execution_count": null,
      "outputs": [
        {
          "output_type": "stream",
          "name": "stdout",
          "text": [
            "/content\n"
          ]
        }
      ]
    },
    {
      "cell_type": "code",
      "source": [
        "class FCN_l5(nn.Module):\n",
        "    # FCN model with 5 layers\n",
        "    # Input: 4D tensor (batch_size, num_input_channels, input_size, input_size)\n",
        "\n",
        "    def __init__(self, num_input_channels, num_output_classes, kernel_size = 3, padding = 1, num_filters = 64):\n",
        "        super(FCN_l5, self).__init__()\n",
        "\n",
        "        self.conv1 = nn.Conv2d(num_input_channels, num_filters,\n",
        "                               kernel_size = kernel_size, stride = 1, padding = padding)\n",
        "        self.conv2 = nn.Conv2d(num_filters, num_filters,\n",
        "                               kernel_size = kernel_size, stride = 1, padding = padding)\n",
        "        self.last = nn.Conv2d(num_filters, num_output_classes,\n",
        "                               kernel_size = 1          , stride = 1, padding = 0)\n",
        "        \n",
        "    def forward(self, inputs):\n",
        "        x = F.relu(self.conv1(inputs))\n",
        "        x = F.relu(self.conv2(x))\n",
        "        x = F.relu(self.conv2(x))\n",
        "        x = F.relu(self.conv2(x))\n",
        "        x = F.relu(self.conv2(x))\n",
        "        x = self.last(x)\n",
        "\n",
        "        return x  # Output: 4D tensor (batch_size, num_output_classes, input_size, input_size)"
      ],
      "metadata": {
        "id": "C4zAVdtu3Ecu"
      },
      "execution_count": null,
      "outputs": []
    },
    {
      "cell_type": "code",
      "source": [
        "device = torch.device('cuda:0' if torch.cuda.is_available() else 'cpu') ### For GPU\n",
        "model = FCN_l5(num_input_channels = 4, num_output_classes = NUM_DFC2021_CLASS).to(device)\n",
        "model.load_state_dict(torch.load(model_path))\n",
        "model = model.to(device)\n",
        "\n",
        "if model2_path == None:\n",
        "    model2 = None\n",
        "else:\n",
        "    model2 = FCN_l5(num_input_channels = 4, num_output_classes = NUM_DFC2021_CLASS).to(device)\n",
        "    model2.load_state_dict(torch.load(model2_path))\n",
        "    model2 = model2.to(device)"
      ],
      "metadata": {
        "id": "o67-UWnDlLSI"
      },
      "execution_count": null,
      "outputs": []
    },
    {
      "cell_type": "code",
      "source": [
        "# df = pd.read_csv(ROOT_PATH + 'DFC2021-Track-MSD/data/test_tiles.txt', header = None)\n",
        "# df = df.rename(columns = {0:'id'})\n",
        "\n",
        "# def id_to_url_2013(id):\n",
        "#     url = 'https://dfc2021.blob.core.windows.net/competition-data/naip-2013/' + str(id) + '_naip-2013.tif'\n",
        "#     return url\n",
        "\n",
        "# def id_to_url_2017(id):\n",
        "#     url = 'https://dfc2021.blob.core.windows.net/competition-data/naip-2017/' + str(id) + '_naip-2017.tif'\n",
        "#     return url\n",
        "\n",
        "# df['url_2013'] = df['id'].apply(id_to_url_2013)\n",
        "# df['url_2017'] = df['id'].apply(id_to_url_2017)"
      ],
      "metadata": {
        "id": "jIfo01mpSaFW"
      },
      "execution_count": null,
      "outputs": []
    },
    {
      "cell_type": "code",
      "source": [
        "# # Need to run once at first running of this code\n",
        "# start_time = time.time()\n",
        "# shutil.rmtree(CODALAB_NAIP_DIRECTORY, ignore_errors = True)\n",
        "# for url in df['url_2013']:\n",
        "#     download_file(save_path = CODALAB_NAIP_DIRECTORY, save_file_name = url[65:], url = url)\n",
        "# for url in df['url_2017']:\n",
        "#     download_file(save_path = CODALAB_NAIP_DIRECTORY, save_file_name = url[65:], url = url)\n",
        "# (time.time() - start_time) / 60"
      ],
      "metadata": {
        "id": "k1H8BwicUVWm"
      },
      "execution_count": null,
      "outputs": []
    },
    {
      "cell_type": "code",
      "source": [
        "def make_save_codalab_preds(model, test_data, pad_width, bsize, image_loader, model2):\n",
        "    test_preds_s = np.empty((0, SPL_WH, SPL_WH))\n",
        "    for i in range(int(test_data.shape[0] / bsize)):\n",
        "        test_outputs = model(test_data[i * bsize:(i + 1) * bsize])\n",
        "        if model2 != None:\n",
        "            test_outputs2 = model2(test_data[i * bsize:(i + 1) * bsize])\n",
        "            test_outputs = (test_outputs + test_outputs2) / 2\n",
        "        test_preds = torch.max(test_outputs, dim = 1).indices\n",
        "        test_preds_s = np.append(test_preds_s, test_preds.to('cpu').detach().numpy().copy(), 0)\n",
        "\n",
        "    if test_data.shape[0] % bsize > 0:\n",
        "        test_outputs = model(test_data[(i + 1) * bsize:])\n",
        "        if model2 != None:\n",
        "            test_outputs2 = model2(test_data[i * bsize:(i + 1) * bsize])\n",
        "            test_outputs = (test_outputs + test_outputs2) / 2 \n",
        "        test_preds = torch.max(test_outputs, dim = 1).indices\n",
        "        test_preds_s = np.append(test_preds_s, test_preds.to('cpu').detach().numpy().copy(), 0)\n",
        "\n",
        "    codalab_test_preds_s = reshape_data(test_preds_s).reshape([-1, 3880, 3880])\n",
        "    num_data = len(image_loader)\n",
        "    assert codalab_test_preds_s.shape == (num_data, 3880, 3880)\n",
        "\n",
        "    ######################################################\n",
        "    ### Tentative implementation: \n",
        "\n",
        "    # Class \"None\" -> modified to \"Tree Canopy\" (because TC is most prevalent)\n",
        "    codalab_test_preds_s[codalab_test_preds_s == 4] = 1\n",
        "\n",
        "    ######################################################\n",
        "\n",
        "    for n in range(num_data):\n",
        "        codalab_test_preds = codalab_test_preds_s[n]\n",
        "        pw_x_bef = pad_width['pw_x_bef'][n]\n",
        "        pw_x_aft = pad_width['pw_x_aft'][n]\n",
        "        pw_y_bef = pad_width['pw_y_bef'][n]\n",
        "        pw_y_aft = pad_width['pw_y_aft'][n]\n",
        "        file = image_loader[n]\n",
        "\n",
        "        if pw_x_aft > 0:\n",
        "            codalab_test_preds = codalab_test_preds[pw_x_bef:-pw_x_aft, :]\n",
        "        else:\n",
        "            codalab_test_preds = codalab_test_preds[pw_x_bef:, :]\n",
        "        if pw_y_aft > 0:\n",
        "            codalab_test_preds = codalab_test_preds[:, pw_y_bef:-pw_y_aft]\n",
        "        else:\n",
        "            codalab_test_preds = codalab_test_preds[:, pw_y_bef:]\n",
        "\n",
        "        with rasterio.open(os.path.join(CODALAB_NAIP_DIRECTORY, file)) as f:\n",
        "            input_profile = f.profile.copy()\n",
        "\n",
        "        output_profile = input_profile.copy()\n",
        "        output_profile[\"driver\"] = \"GTiff\"\n",
        "        output_profile[\"dtype\"] = \"uint8\"\n",
        "        output_profile[\"count\"] = 1\n",
        "        output_profile[\"nodata\"] = 0\n",
        "\n",
        "        output_fn = file.replace(\"naip\", \"predictions\")\n",
        "        output_fn = os.path.join(CODALAB_PRED_DIRECTORY, output_fn)\n",
        "\n",
        "        with rasterio.open(output_fn, \"w\", **output_profile) as f:\n",
        "            f.write(codalab_test_preds, 1)"
      ],
      "metadata": {
        "id": "UGXrQ_1FX4ej"
      },
      "execution_count": null,
      "outputs": []
    },
    {
      "cell_type": "code",
      "source": [
        "codalab_test_image_loader = sorted([file for file in os.listdir(CODALAB_NAIP_DIRECTORY) if file.endswith('.tif')])\n",
        "shutil.rmtree(CODALAB_PRED_DIRECTORY, ignore_errors = True)\n",
        "os.makedirs(CODALAB_PRED_DIRECTORY, exist_ok = True)\n",
        "\n",
        "start_time = time.time()\n",
        "for ite in tqdm(range(len(codalab_test_image_loader))):\n",
        "    test_data, _, pad_width = make_test_data(image_path = CODALAB_NAIP_DIRECTORY,\n",
        "                                             image_loader = [codalab_test_image_loader[ite]], return_pad_width = True)\n",
        "    make_save_codalab_preds(model = model, test_data = test_data, pad_width = pad_width,\n",
        "                            bsize = 4, image_loader = [codalab_test_image_loader[ite]],\n",
        "                            model2 = model2)\n",
        "    \n",
        "    if ite == 0:\n",
        "        print(\"\\nmemory_usage_after_codalab_preds\")\n",
        "        print(\"torch.cuda.memory_allocated: %fGB\"%(torch.cuda.memory_allocated(0)/1024/1024/1024))\n",
        "        print(\"torch.cuda.memory_reserved: %fGB\"%(torch.cuda.memory_reserved(0)/1024/1024/1024))\n",
        "        print(\"torch.cuda.max_memory_reserved: %fGB\"%(torch.cuda.max_memory_reserved(0)/1024/1024/1024))\n",
        "time_lapsed = time.time() - start_time\n",
        "print(f'\\n{int(time_lapsed // 60)} min {int(time_lapsed % 60)} sec lapsed')"
      ],
      "metadata": {
        "id": "C08au3-02l0s",
        "colab": {
          "base_uri": "https://localhost:8080/"
        },
        "outputId": "45d9e1ab-0bd6-49c4-bdba-5bc46bb7b932"
      },
      "execution_count": null,
      "outputs": [
        {
          "output_type": "stream",
          "name": "stderr",
          "text": [
            "  1%|          | 1/114 [00:09<17:35,  9.34s/it]"
          ]
        },
        {
          "output_type": "stream",
          "name": "stdout",
          "text": [
            "\n",
            "memory_usage_after_codalab_preds\n",
            "torch.cuda.memory_allocated: 0.250149GB\n",
            "torch.cuda.memory_reserved: 1.076172GB\n",
            "torch.cuda.max_memory_reserved: 1.076172GB\n"
          ]
        },
        {
          "output_type": "stream",
          "name": "stderr",
          "text": [
            "100%|██████████| 114/114 [07:10<00:00,  3.77s/it]"
          ]
        },
        {
          "output_type": "stream",
          "name": "stdout",
          "text": [
            "\n",
            "7 min 10 sec lapsed\n"
          ]
        },
        {
          "output_type": "stream",
          "name": "stderr",
          "text": [
            "\n"
          ]
        }
      ]
    },
    {
      "cell_type": "code",
      "source": [
        "##########################################################################################\n",
        "### Adapt from independent_pairs_to_predictions.py in the git of baseline or 3rd-place team\n",
        "##########################################################################################\n",
        "\n",
        "shutil.rmtree(CODALAB_SUBMISSION_DIRECTORY, ignore_errors = True)\n",
        "%cd /content/DFC2021-Track-MSD\n",
        "\n",
        "\n",
        "parser = argparse.ArgumentParser(description = 'Helper script for combining DFC2021 prediction into submission format')\n",
        "parser.add_argument('--input_dir', type = str, required = True,\n",
        "                    help = 'The path to a directory containing the output of the `inference.py` script.')\n",
        "parser.add_argument('--output_dir', type = str, required = True,\n",
        "                    help = 'The path to output the consolidated predictions, should be different than `--input_dir`.')\n",
        "parser.add_argument('--overwrite', action = \"store_true\", help = 'Flag for overwriting `--output_dir` if that directory already exists.')\n",
        "parser.add_argument('--soft_assignment', action = \"store_true\",\n",
        "                    help = 'Flag for combining predictions using soft assignment. You can only use this if you ran the `inference.py` script with the `--save_soft` flag.')\n",
        "args = parser.parse_args(args=['--input_dir', CODALAB_PRED_DIRECTORY, '--output_dir', CODALAB_SUBMISSION_DIRECTORY])\n",
        "\n",
        "\n",
        "def main():\n",
        "    print(\"Starting to combine predictions at %s\" % (str(datetime.datetime.now())))\n",
        "\n",
        "    #-------------------\n",
        "    # Setup\n",
        "    #-------------------\n",
        "    assert os.path.exists(args.input_dir) and len(os.listdir(args.input_dir)) > 0\n",
        "\n",
        "    if os.path.isfile(args.output_dir):\n",
        "        print(\"A file was passed as `--output_dir`, please pass a directory!\")\n",
        "        return\n",
        "\n",
        "    if os.path.exists(args.output_dir) and len(os.listdir(args.output_dir)) > 0:\n",
        "        if args.overwrite:\n",
        "            print(\"WARNING! The output directory, %s, already exists, we might overwrite data in it!\" % (args.output_dir))\n",
        "        else:\n",
        "            print(\"The output directory, %s, already exists and isn't empty. We don't want to overwrite and existing results, exiting...\" % (args.output_dir))\n",
        "            return\n",
        "    else:\n",
        "        print(\"The output directory doesn't exist or is empty.\")\n",
        "        os.makedirs(args.output_dir, exist_ok=True)\n",
        "\n",
        "\n",
        "    #-------------------\n",
        "    # Run for each pair of predictions that we find in `--input_dir`\n",
        "    #-------------------\n",
        "    idxs_2013 = [\n",
        "        fn.split(\"_\")[0]\n",
        "        for fn in os.listdir(args.input_dir)\n",
        "        if fn.endswith(\"predictions-2013.tif\")\n",
        "    ]\n",
        "\n",
        "    idxs_2017 = [\n",
        "        fn.split(\"_\")[0]\n",
        "        for fn in os.listdir(args.input_dir)\n",
        "        if fn.endswith(\"predictions-2017.tif\")\n",
        "    ]\n",
        "\n",
        "    assert len(idxs_2013) > 0, \"No matching files found in '%s'\" % (args.input_dir)\n",
        "    assert set(idxs_2013) == set(idxs_2017), \"Missing some predictions\"\n",
        "\n",
        "    for i, idx in enumerate(idxs_2013):\n",
        "        tic = time.time()\n",
        "\n",
        "        print(\"(%d/%d) Processing tile %s\" % (i, len(idxs_2013), idx), end = \" ... \")\n",
        "\n",
        "        if args.soft_assignment:\n",
        "            fn_2013 = os.path.join(args.input_dir, \"%s_predictions-soft-2013.tif\" % (idx))\n",
        "            fn_2017 = os.path.join(args.input_dir, \"%s_predictions-soft-2017.tif\" % (idx))\n",
        "        else:\n",
        "            fn_2013 = os.path.join(args.input_dir, \"%s_predictions-2013.tif\" % (idx))\n",
        "            fn_2017 = os.path.join(args.input_dir, \"%s_predictions-2017.tif\" % (idx))\n",
        "        output_fn = os.path.join(args.output_dir, \"%s_predictions.tif\" % (idx))\n",
        "\n",
        "        assert os.path.exists(fn_2013) and os.path.exists(fn_2017)\n",
        "\n",
        "        ## Load the independent predictions for both years\n",
        "        with rasterio.open(fn_2013) as f:\n",
        "            if args.soft_assignment:\n",
        "                t1 = np.rollaxis(f.read(), 0, 3)\n",
        "            else:\n",
        "                t1 = f.read(1)\n",
        "            input_profile = f.profile.copy() # save the metadata for writing output\n",
        "            \n",
        "        with rasterio.open(fn_2017) as f:\n",
        "            if args.soft_assignment:\n",
        "                t2 = np.rollaxis(f.read(), 0, 3)\n",
        "            else:\n",
        "                t2 = f.read(1)\n",
        "\n",
        "        t1_reduced = t1  # changed from the original git implementation\n",
        "        t2_reduced = t2  # changed from the original git implementation\n",
        "\n",
        "        ## Convert the two layers of predictions into the format expected by codalab\n",
        "        predictions = (t1_reduced * 4) + t2_reduced\n",
        "        predictions[predictions == 5] = 0\n",
        "        predictions[predictions == 10] = 0\n",
        "        predictions[predictions == 15] = 0\n",
        "        predictions = predictions.astype(np.uint8)\n",
        "\n",
        "        ## Write output as GeoTIFF\n",
        "        input_profile[\"count\"] = 1\n",
        "        with rasterio.open(output_fn, \"w\", **input_profile) as f:\n",
        "            f.write(predictions, 1)\n",
        "\n",
        "        print(\"finished in %0.4f seconds\" % (time.time() - tic))\n",
        "\n",
        "if __name__ == \"__main__\":\n",
        "    main()"
      ],
      "metadata": {
        "id": "yyF-AfIRKRCd",
        "colab": {
          "base_uri": "https://localhost:8080/"
        },
        "outputId": "71c652a6-6713-4774-888a-1627ca107ab0"
      },
      "execution_count": null,
      "outputs": [
        {
          "output_type": "stream",
          "name": "stdout",
          "text": [
            "/content/DFC2021-Track-MSD\n",
            "Starting to combine predictions at 2022-12-16 04:53:58.025949\n",
            "The output directory doesn't exist or is empty.\n",
            "(0/57) Processing tile 2496 ... finished in 0.2654 seconds\n",
            "(1/57) Processing tile 2434 ... finished in 0.1846 seconds\n",
            "(2/57) Processing tile 3518 ... finished in 0.2465 seconds\n",
            "(3/57) Processing tile 2773 ... finished in 0.3152 seconds\n",
            "(4/57) Processing tile 2609 ... finished in 0.2186 seconds\n",
            "(5/57) Processing tile 3683 ... finished in 0.2749 seconds\n",
            "(6/57) Processing tile 3872 ... finished in 0.2464 seconds\n",
            "(7/57) Processing tile 3925 ... finished in 0.2328 seconds\n",
            "(8/57) Processing tile 2932 ... finished in 0.2420 seconds\n",
            "(9/57) Processing tile 5113 ... finished in 0.2106 seconds\n",
            "(10/57) Processing tile 3628 ... finished in 0.2561 seconds\n",
            "(11/57) Processing tile 3770 ... finished in 0.2007 seconds\n",
            "(12/57) Processing tile 2931 ... finished in 0.2252 seconds\n",
            "(13/57) Processing tile 2610 ... finished in 0.2222 seconds\n",
            "(14/57) Processing tile 3322 ... finished in 0.2398 seconds\n",
            "(15/57) Processing tile 3047 ... finished in 0.3094 seconds\n",
            "(16/57) Processing tile 3598 ... finished in 0.2093 seconds\n",
            "(17/57) Processing tile 3089 ... finished in 0.2717 seconds\n",
            "(18/57) Processing tile 5060 ... finished in 0.1956 seconds\n",
            "(19/57) Processing tile 2719 ... finished in 0.3062 seconds\n",
            "(20/57) Processing tile 2986 ... finished in 0.2341 seconds\n",
            "(21/57) Processing tile 3251 ... finished in 0.2969 seconds\n",
            "(22/57) Processing tile 2436 ... finished in 0.1890 seconds\n",
            "(23/57) Processing tile 3717 ... finished in 0.2195 seconds\n",
            "(24/57) Processing tile 1949 ... finished in 0.2426 seconds\n",
            "(25/57) Processing tile 3682 ... finished in 0.2478 seconds\n",
            "(26/57) Processing tile 3479 ... finished in 0.2461 seconds\n",
            "(27/57) Processing tile 2440 ... finished in 0.2912 seconds\n",
            "(28/57) Processing tile 3196 ... finished in 0.2678 seconds\n",
            "(29/57) Processing tile 3088 ... finished in 0.2444 seconds\n",
            "(30/57) Processing tile 2437 ... finished in 0.2004 seconds\n",
            "(31/57) Processing tile 3101 ... finished in 0.2881 seconds\n",
            "(32/57) Processing tile 2774 ... finished in 0.3112 seconds\n",
            "(33/57) Processing tile 3532 ... finished in 0.2318 seconds\n",
            "(34/57) Processing tile 3871 ... finished in 0.2439 seconds\n",
            "(35/57) Processing tile 2438 ... finished in 0.2122 seconds\n",
            "(36/57) Processing tile 2942 ... finished in 0.2740 seconds\n",
            "(37/57) Processing tile 2607 ... finished in 0.2273 seconds\n",
            "(38/57) Processing tile 3519 ... finished in 0.2340 seconds\n",
            "(39/57) Processing tile 2602 ... finished in 0.2400 seconds\n",
            "(40/57) Processing tile 2442 ... finished in 0.2453 seconds\n",
            "(41/57) Processing tile 3870 ... finished in 0.1858 seconds\n",
            "(42/57) Processing tile 3250 ... finished in 0.3116 seconds\n",
            "(43/57) Processing tile 5059 ... finished in 0.1887 seconds\n",
            "(44/57) Processing tile 2439 ... finished in 0.2561 seconds\n",
            "(45/57) Processing tile 5114 ... finished in 0.2165 seconds\n",
            "(46/57) Processing tile 4574 ... finished in 0.2247 seconds\n",
            "(47/57) Processing tile 3161 ... finished in 0.2928 seconds\n",
            "(48/57) Processing tile 3382 ... finished in 0.2119 seconds\n",
            "(49/57) Processing tile 2228 ... finished in 0.2565 seconds\n",
            "(50/57) Processing tile 2995 ... finished in 0.3152 seconds\n",
            "(51/57) Processing tile 4573 ... finished in 0.2118 seconds\n",
            "(52/57) Processing tile 3480 ... finished in 0.2525 seconds\n",
            "(53/57) Processing tile 3544 ... finished in 0.2320 seconds\n",
            "(54/57) Processing tile 3328 ... finished in 0.2251 seconds\n",
            "(55/57) Processing tile 3545 ... finished in 0.2336 seconds\n",
            "(56/57) Processing tile 2603 ... finished in 0.2590 seconds\n"
          ]
        }
      ]
    },
    {
      "cell_type": "markdown",
      "source": [
        "You can sign up to Codalab and submit the zip file after downloading it.\n"
      ],
      "metadata": {
        "id": "vQnKWWsPLC32"
      }
    },
    {
      "cell_type": "code",
      "source": [
        "os.makedirs(CODALAB_SUBMISSION_ZIP_DIRECTORY, exist_ok = True)\n",
        "os.chdir(CODALAB_SUBMISSION_ZIP_DIRECTORY)\n",
        "shutil.make_archive(submission_zip_name, format = 'zip', root_dir = CODALAB_SUBMISSION_DIRECTORY)"
      ],
      "metadata": {
        "id": "i7DfSMkcaUYK",
        "colab": {
          "base_uri": "https://localhost:8080/",
          "height": 36
        },
        "outputId": "10f47f8e-3458-4267-bbce-ab76d7c78f47"
      },
      "execution_count": null,
      "outputs": [
        {
          "output_type": "execute_result",
          "data": {
            "text/plain": [
              "'/content/drive/MyDrive/JPMC3-2-pt2y/codalab_submission/basemodels_DA_nlcdonly.zip'"
            ],
            "application/vnd.google.colaboratory.intrinsic+json": {
              "type": "string"
            }
          },
          "metadata": {},
          "execution_count": 20
        }
      ]
    },
    {
      "cell_type": "markdown",
      "source": [
        "## Check the output"
      ],
      "metadata": {
        "id": "gmXOYxGdLaaE"
      }
    },
    {
      "cell_type": "code",
      "source": [
        "codalab_pred_loader = sorted([file for file in os.listdir(CODALAB_SUBMISSION_DIRECTORY) if file.endswith('.tif')])\n",
        "\n",
        "for i, file in enumerate(tqdm(codalab_pred_loader)):\n",
        "    ds = gdal.Open(os.path.join(CODALAB_SUBMISSION_DIRECTORY, file), gdal.GA_ReadOnly)\n",
        "    codalab_pred_np = np.array([ds.GetRasterBand(i + 1).ReadAsArray() for i in range(ds.RasterCount)])\n",
        "    if max(codalab_pred_np[0].flatten()) > 14:\n",
        "        print(f'\\n\\n{file} is wrong!')\n",
        "        print(f'\\nsize: ({ds.RasterXSize}, {ds.RasterYSize})\\n')\n",
        "        print(pd.Series(codalab_pred_np[0].flatten()).value_counts())\n",
        "        break\n",
        "    if i == len(codalab_pred_loader) - 1:\n",
        "        print('\\n\\nThe format looks OK')"
      ],
      "metadata": {
        "id": "GBPkVabgK5WV",
        "colab": {
          "base_uri": "https://localhost:8080/"
        },
        "outputId": "5d01b505-a60e-4ec4-9a88-ee505f565b22"
      },
      "execution_count": null,
      "outputs": [
        {
          "output_type": "stream",
          "name": "stderr",
          "text": [
            "100%|██████████| 57/57 [01:01<00:00,  1.09s/it]"
          ]
        },
        {
          "output_type": "stream",
          "name": "stdout",
          "text": [
            "\n",
            "\n",
            "The format looks OK\n"
          ]
        },
        {
          "output_type": "stream",
          "name": "stderr",
          "text": [
            "\n"
          ]
        }
      ]
    },
    {
      "cell_type": "code",
      "source": [
        "ds = gdal.Open(CODALAB_PRED_DIRECTORY + '3598_predictions-2017.tif', gdal.GA_ReadOnly)\n",
        "exmp = np.array([ds.GetRasterBand(i + 1).ReadAsArray() for i in range(ds.RasterCount)])\n",
        "print(exmp)\n",
        "print(exmp.shape)\n",
        "print(ds.RasterXSize, ds.RasterYSize)\n",
        "print(pd.Series(exmp[0].flatten()).value_counts())\n",
        "plt.imshow(exmp[0])"
      ],
      "metadata": {
        "id": "s9VC1-ghEeHh",
        "colab": {
          "base_uri": "https://localhost:8080/",
          "height": 541
        },
        "outputId": "4e63fbe7-93a5-4e52-94ed-65437917f038"
      },
      "execution_count": null,
      "outputs": [
        {
          "output_type": "stream",
          "name": "stdout",
          "text": [
            "[[[1 1 1 ... 2 2 2]\n",
            "  [1 1 1 ... 2 2 2]\n",
            "  [1 1 1 ... 2 2 2]\n",
            "  ...\n",
            "  [1 1 1 ... 3 2 2]\n",
            "  [1 1 1 ... 3 2 2]\n",
            "  [1 1 1 ... 3 2 2]]]\n",
            "(1, 3880, 3880)\n",
            "3880 3880\n",
            "1    7142563\n",
            "3    6036204\n",
            "2    1097385\n",
            "0     778248\n",
            "dtype: int64\n"
          ]
        },
        {
          "output_type": "execute_result",
          "data": {
            "text/plain": [
              "<matplotlib.image.AxesImage at 0x7fba682cdbb0>"
            ]
          },
          "metadata": {},
          "execution_count": 22
        },
        {
          "output_type": "display_data",
          "data": {
            "text/plain": [
              "<Figure size 432x288 with 1 Axes>"
            ],
            "image/png": "[encoded data removed]"
          },
          "metadata": {
            "needs_background": "light"
          }
        }
      ]
    },
    {
      "cell_type": "code",
      "source": [
        "ds = gdal.Open(CODALAB_PRED_DIRECTORY + '3598_predictions-2013.tif', gdal.GA_ReadOnly)\n",
        "exmp = np.array([ds.GetRasterBand(i + 1).ReadAsArray() for i in range(ds.RasterCount)])\n",
        "print(exmp)\n",
        "print(exmp.shape)\n",
        "print(ds.RasterXSize, ds.RasterYSize)\n",
        "print(pd.Series(exmp[0].flatten()).value_counts())\n",
        "plt.imshow(exmp[0])"
      ],
      "metadata": {
        "id": "1JqcOStxEiPr",
        "colab": {
          "base_uri": "https://localhost:8080/",
          "height": 541
        },
        "outputId": "dad80c99-8434-470b-9235-9ce103019f49"
      },
      "execution_count": null,
      "outputs": [
        {
          "output_type": "stream",
          "name": "stdout",
          "text": [
            "[[[2 1 1 ... 2 2 2]\n",
            "  [1 1 1 ... 2 2 2]\n",
            "  [1 1 1 ... 2 2 2]\n",
            "  ...\n",
            "  [1 1 1 ... 0 0 0]\n",
            "  [1 1 1 ... 0 0 0]\n",
            "  [1 1 1 ... 0 0 0]]]\n",
            "(1, 3880, 3880)\n",
            "3880 3880\n",
            "0    6777452\n",
            "1    6370419\n",
            "2    1680877\n",
            "3     225652\n",
            "dtype: int64\n"
          ]
        },
        {
          "output_type": "execute_result",
          "data": {
            "text/plain": [
              "<matplotlib.image.AxesImage at 0x7fba680634f0>"
            ]
          },
          "metadata": {},
          "execution_count": 23
        },
        {
          "output_type": "display_data",
          "data": {
            "text/plain": [
              "<Figure size 432x288 with 1 Axes>"
            ],
            "image/png": "[encoded data removed]"
          },
          "metadata": {
            "needs_background": "light"
          }
        }
      ]
    },
    {
      "cell_type": "code",
      "source": [
        "ds = gdal.Open(CODALAB_SUBMISSION_DIRECTORY + '3598_predictions.tif', gdal.GA_ReadOnly)\n",
        "exmp = np.array([ds.GetRasterBand(i + 1).ReadAsArray() for i in range(ds.RasterCount)])\n",
        "print(exmp)\n",
        "print(exmp.shape)\n",
        "print(ds.RasterXSize, ds.RasterYSize)\n",
        "print(pd.Series(exmp[0].flatten()).value_counts())\n",
        "plt.imshow(exmp[0])"
      ],
      "metadata": {
        "id": "Fj2En3pMLfB3",
        "colab": {
          "base_uri": "https://localhost:8080/",
          "height": 705
        },
        "outputId": "8aaa9c75-30c5-435e-c404-4b718fc572f9"
      },
      "execution_count": null,
      "outputs": [
        {
          "output_type": "stream",
          "name": "stdout",
          "text": [
            "[[[9 0 0 ... 0 0 0]\n",
            "  [0 0 0 ... 0 0 0]\n",
            "  [0 0 0 ... 0 0 0]\n",
            "  ...\n",
            "  [0 0 0 ... 3 2 2]\n",
            "  [0 0 0 ... 3 2 2]\n",
            "  [0 0 0 ... 3 2 2]]]\n",
            "(1, 3880, 3880)\n",
            "3880 3880\n",
            "0     7995017\n",
            "3     5907714\n",
            "9      790240\n",
            "2       94377\n",
            "14      89102\n",
            "6       70789\n",
            "13      55162\n",
            "11      44108\n",
            "8        3412\n",
            "7        3284\n",
            "1         860\n",
            "12        290\n",
            "4          45\n",
            "dtype: int64\n"
          ]
        },
        {
          "output_type": "execute_result",
          "data": {
            "text/plain": [
              "<matplotlib.image.AxesImage at 0x7fba61d51a60>"
            ]
          },
          "metadata": {},
          "execution_count": 24
        },
        {
          "output_type": "display_data",
          "data": {
            "text/plain": [
              "<Figure size 432x288 with 1 Axes>"
            ],
            "image/png": "[encoded data removed]"
          },
          "metadata": {
            "needs_background": "light"
          }
        }
      ]
    }
  ],
  "metadata": {
    "accelerator": "GPU",
    "colab": {
      "machine_shape": "hm",
      "provenance": []
    },
    "gpuClass": "premium",
    "kernelspec": {
      "display_name": "Python 3",
      "name": "python3"
    },
    "language_info": {
      "name": "python"
    }
  },
  "nbformat": 4,
  "nbformat_minor": 0
}