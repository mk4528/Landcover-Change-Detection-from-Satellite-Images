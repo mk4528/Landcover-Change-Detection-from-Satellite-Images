{
 "cells": [
  {
   "cell_type": "code",
   "execution_count": 1,
   "id": "3d7c26b1-0d9b-4819-839a-299b89893761",
   "metadata": {},
   "outputs": [
    {
     "name": "stderr",
     "output_type": "stream",
     "text": [
      "2022-10-31 14:58:35.886846: I tensorflow/core/platform/cpu_feature_guard.cc:193] This TensorFlow binary is optimized with oneAPI Deep Neural Network Library (oneDNN) to use the following CPU instructions in performance-critical operations:  AVX2 AVX512F AVX512_VNNI FMA\n",
      "To enable them in other operations, rebuild TensorFlow with the appropriate compiler flags.\n",
      "2022-10-31 14:58:35.986459: I tensorflow/core/util/util.cc:169] oneDNN custom operations are on. You may see slightly different numerical results due to floating-point round-off errors from different computation orders. To turn them off, set the environment variable `TF_ENABLE_ONEDNN_OPTS=0`.\n",
      "2022-10-31 14:58:36.011231: E tensorflow/stream_executor/cuda/cuda_blas.cc:2981] Unable to register cuBLAS factory: Attempting to register factory for plugin cuBLAS when one has already been registered\n",
      "2022-10-31 14:58:36.545817: W tensorflow/stream_executor/platform/default/dso_loader.cc:64] Could not load dynamic library 'libnvinfer.so.7'; dlerror: libnvinfer.so.7: cannot open shared object file: No such file or directory; LD_LIBRARY_PATH: :/home/hegelim/miniconda3/envs/tensorflow/lib/:/home/hegelim/miniconda3/envs/tensorflow/lib/:/home/hegelim/miniconda3/envs/tensorflow/lib/:/home/hegelim/miniconda3/envs/tensorflow/lib/:/home/hegelim/miniconda3/envs/tensorflow/lib/:/home/hegelim/miniconda3/envs/tensorflow/lib/\n",
      "2022-10-31 14:58:36.545908: W tensorflow/stream_executor/platform/default/dso_loader.cc:64] Could not load dynamic library 'libnvinfer_plugin.so.7'; dlerror: libnvinfer_plugin.so.7: cannot open shared object file: No such file or directory; LD_LIBRARY_PATH: :/home/hegelim/miniconda3/envs/tensorflow/lib/:/home/hegelim/miniconda3/envs/tensorflow/lib/:/home/hegelim/miniconda3/envs/tensorflow/lib/:/home/hegelim/miniconda3/envs/tensorflow/lib/:/home/hegelim/miniconda3/envs/tensorflow/lib/:/home/hegelim/miniconda3/envs/tensorflow/lib/\n",
      "2022-10-31 14:58:36.545913: W tensorflow/compiler/tf2tensorrt/utils/py_utils.cc:38] TF-TRT Warning: Cannot dlopen some TensorRT libraries. If you would like to use Nvidia GPU with TensorRT, please make sure the missing libraries mentioned above are installed properly.\n"
     ]
    }
   ],
   "source": [
    "import tensorflow as tf\n",
    "from IPython.display import clear_output\n",
    "import matplotlib.pyplot as plt\n",
    "import glob\n",
    "import cv2\n",
    "from skimage import io\n",
    "from skimage.transform import resize\n",
    "import numpy as np\n",
    "from sklearn.model_selection import train_test_split\n",
    "from tensorflow_examples.models.pix2pix import pix2pix"
   ]
  },
  {
   "cell_type": "code",
   "execution_count": 2,
   "id": "26d1d6cc-cab4-4f2f-b976-49a4db030841",
   "metadata": {},
   "outputs": [],
   "source": [
    "%run utils\n",
    "import utils"
   ]
  },
  {
   "cell_type": "code",
   "execution_count": 3,
   "id": "713b7b2e-3cd1-47b5-9eb6-931490e96f51",
   "metadata": {},
   "outputs": [
    {
     "name": "stdout",
     "output_type": "stream",
     "text": [
      "[PhysicalDevice(name='/physical_device:GPU:0', device_type='GPU')]\n"
     ]
    },
    {
     "name": "stderr",
     "output_type": "stream",
     "text": [
      "2022-10-31 14:58:37.991322: I tensorflow/stream_executor/cuda/cuda_gpu_executor.cc:966] could not open file to read NUMA node: /sys/bus/pci/devices/0000:01:00.0/numa_node\n",
      "Your kernel may have been built without NUMA support.\n",
      "2022-10-31 14:58:38.000415: I tensorflow/stream_executor/cuda/cuda_gpu_executor.cc:966] could not open file to read NUMA node: /sys/bus/pci/devices/0000:01:00.0/numa_node\n",
      "Your kernel may have been built without NUMA support.\n",
      "2022-10-31 14:58:38.000838: I tensorflow/stream_executor/cuda/cuda_gpu_executor.cc:966] could not open file to read NUMA node: /sys/bus/pci/devices/0000:01:00.0/numa_node\n",
      "Your kernel may have been built without NUMA support.\n"
     ]
    }
   ],
   "source": [
    "gpu_available = tf.config.list_physical_devices('GPU')\n",
    "print(gpu_available)"
   ]
  },
  {
   "cell_type": "code",
   "execution_count": 4,
   "id": "52a50d2e",
   "metadata": {},
   "outputs": [],
   "source": [
    "%load_ext tensorboard"
   ]
  },
  {
   "cell_type": "markdown",
   "id": "5f4317f7",
   "metadata": {},
   "source": [
    "### Prepare Dataset"
   ]
  },
  {
   "cell_type": "code",
   "execution_count": 5,
   "id": "61946337",
   "metadata": {},
   "outputs": [],
   "source": [
    "naip_dir = \"TIFimages/NAIP_2013\"\n",
    "mask_dir = \"TIFimages/NLCD_2013\""
   ]
  },
  {
   "cell_type": "code",
   "execution_count": 6,
   "id": "7e09d253-ea2e-480e-96fc-39676d2e5660",
   "metadata": {},
   "outputs": [],
   "source": [
    "def slice_image(img, desired_size):\n",
    "    \"\"\"Slice images into smaller pieces\"\"\"\n",
    "    img = img / 255\n",
    "    res = []\n",
    "    h, w = img.shape[0], img.shape[1]\n",
    "    dh, dw = desired_size\n",
    "    num_rows, num_cols = h // dh, w // dw\n",
    "    for i in range(num_rows):\n",
    "        for j in range(num_cols):\n",
    "            res.append(np.expand_dims(img[i*dh:i*dh+dh, j*dw:j*dw+dw], 2))\n",
    "    return np.array(res)"
   ]
  },
  {
   "cell_type": "code",
   "execution_count": 7,
   "id": "418c47d8-3821-4c19-92bf-e0266ef4d041",
   "metadata": {},
   "outputs": [],
   "source": [
    "def slice_mask(img, desired_size, remapping: dict):\n",
    "    \"\"\"slice NLCD imaegs into smaller pieces\"\"\"\n",
    "    remapper = lambda x: remapping[x]\n",
    "    img = np.vectorize(remapper)(img)\n",
    "    res = []\n",
    "    h, w = img.shape[0], img.shape[1]\n",
    "    dh, dw = desired_size\n",
    "    num_rows, num_cols = h // dh, w // dw\n",
    "    for i in range(num_rows):\n",
    "        for j in range(num_cols):\n",
    "            res.append(np.expand_dims(img[i*dh:i*dh+dh, j*dw:j*dw+dw], axis=2))\n",
    "    return np.array(res)"
   ]
  },
  {
   "cell_type": "code",
   "execution_count": 8,
   "id": "19a01a7a-19ef-4c86-9e9e-0a7f6d60b0f2",
   "metadata": {},
   "outputs": [],
   "source": [
    "def remap_NLCD_labels(nlcd_map: dict):\n",
    "    \"\"\"remap NLCD labels from 17 classes to 5 classes (0 - 4)\"\"\"\n",
    "    # first, remap MAPPING in utils.py \n",
    "    # to {\"Water\": 0, \"Tree Canopy\": 1, ...}\n",
    "    mapping_remapped = {k: i for i, k in enumerate(utils.MAPPING.keys())}\n",
    "    res = {}\n",
    "    for k in nlcd_map.keys():\n",
    "        res[k] = mapping_remapped[nlcd_map[k]]\n",
    "    return res"
   ]
  },
  {
   "cell_type": "code",
   "execution_count": 9,
   "id": "ecdffaec-e9f9-4a4a-b529-0154e9c0f8d3",
   "metadata": {},
   "outputs": [
    {
     "data": {
      "text/plain": [
       "{0: 4,\n",
       " 11: 0,\n",
       " 12: 4,\n",
       " 21: 2,\n",
       " 22: 3,\n",
       " 23: 3,\n",
       " 24: 3,\n",
       " 31: 3,\n",
       " 41: 1,\n",
       " 42: 1,\n",
       " 43: 1,\n",
       " 52: 1,\n",
       " 71: 2,\n",
       " 81: 2,\n",
       " 82: 2,\n",
       " 90: 1,\n",
       " 95: 1}"
      ]
     },
     "execution_count": 9,
     "metadata": {},
     "output_type": "execute_result"
    }
   ],
   "source": [
    "nlcd_map = utils.create_direct_map()\n",
    "remapping = remap_NLCD_labels(nlcd_map)\n",
    "remapping"
   ]
  },
  {
   "cell_type": "code",
   "execution_count": 10,
   "id": "e922042a",
   "metadata": {},
   "outputs": [
    {
     "name": "stdout",
     "output_type": "stream",
     "text": [
      "(3880, 3880)\n",
      "(900, 128, 128, 1)\n"
     ]
    }
   ],
   "source": [
    "img_sample = cv2.imread(\"TIFimages/NAIP_2013/1030_naip-2013.tif\", 0)\n",
    "print(img_sample.shape)\n",
    "X = slice_image(img_sample, (128, 128))\n",
    "print(X.shape)"
   ]
  },
  {
   "cell_type": "code",
   "execution_count": 11,
   "id": "73d215a1-4101-440a-a1b2-38c65a81e6c1",
   "metadata": {},
   "outputs": [
    {
     "name": "stdout",
     "output_type": "stream",
     "text": [
      "(3880, 3880)\n",
      "(900, 128, 128, 1)\n"
     ]
    }
   ],
   "source": [
    "mask_sample = io.imread(\"TIFimages/NLCD_2013/1030_nlcd-2013.tif\")\n",
    "print(mask_sample.shape)\n",
    "y = slice_mask(mask_sample, (128, 128), remapping)\n",
    "print(y.shape)"
   ]
  },
  {
   "cell_type": "code",
   "execution_count": 12,
   "id": "6464f8fa-3085-4ccb-aa9a-7fac3c19006c",
   "metadata": {},
   "outputs": [],
   "source": [
    "# dataset = tf.data.Dataset.from_tensor_slices((X, y)).batch(32)"
   ]
  },
  {
   "cell_type": "code",
   "execution_count": 13,
   "id": "70477469-2c2a-4b14-8756-2590e1d67c1a",
   "metadata": {},
   "outputs": [],
   "source": [
    "# for naip, label in dataset:\n",
    "#     print(naip.shape)\n",
    "#     print(label.shape)\n",
    "#     break"
   ]
  },
  {
   "cell_type": "code",
   "execution_count": 14,
   "id": "87501c39-7a2f-4fb9-9ed8-5f94ea9e4108",
   "metadata": {},
   "outputs": [],
   "source": [
    "X_train, X_test, y_train, y_test = train_test_split(X, y, test_size=0.1, random_state=42)"
   ]
  },
  {
   "cell_type": "code",
   "execution_count": 15,
   "id": "074c4d4d-511b-4c55-8e33-e9344ce59bdd",
   "metadata": {},
   "outputs": [],
   "source": [
    "# for a in train_dataset:\n",
    "#     print(a)\n",
    "#     break"
   ]
  },
  {
   "cell_type": "code",
   "execution_count": 16,
   "id": "80678919",
   "metadata": {},
   "outputs": [],
   "source": [
    "# X_dataset = tf.data.Dataset.from_generator(\n",
    "#     read_naip_from_dir, \n",
    "#     args=[naip_dir, (128, 128)], \n",
    "#     output_types=tf.float32, \n",
    "#     output_shapes=(128, 128, 4))"
   ]
  },
  {
   "cell_type": "code",
   "execution_count": 17,
   "id": "9ec25e71",
   "metadata": {},
   "outputs": [],
   "source": [
    "# def read_nlcd_from_dir(dir: str, num: int, img_height, img_width):\n",
    "#     image_files = glob.glob(f\"{dir}/*.tif\")\n",
    "#     image_files.sort()\n",
    "#     image_subset = image_files[:num]\n",
    "#     image_list = [io.imread(x)[:img_height, :img_width] for x in image_subset]\n",
    "#     image_list = np.array(image_list)\n",
    "#     if image_list.ndim == 2:\n",
    "#     \timage_list = np.expand_dims(image_list, axis=3)\n",
    "#     return image_list"
   ]
  },
  {
   "cell_type": "code",
   "execution_count": 18,
   "id": "07a12322",
   "metadata": {},
   "outputs": [],
   "source": [
    "# X = read_numpy_from_dir(naip_dir, num, image_size)\n",
    "# y = read_numpy_from_dir(mask_dir, num, image_size)"
   ]
  },
  {
   "cell_type": "code",
   "execution_count": 19,
   "id": "599035c4",
   "metadata": {},
   "outputs": [],
   "source": [
    "# X_train, X_test, y_train, y_test = train_test_split(X, y, test_size=0.1, random_state=42)"
   ]
  },
  {
   "cell_type": "code",
   "execution_count": 20,
   "id": "a2572fd3",
   "metadata": {},
   "outputs": [],
   "source": [
    "# print(X_train[0].shape)\n",
    "# print(X_train.shape)\n",
    "# print(X_test.shape)"
   ]
  },
  {
   "cell_type": "markdown",
   "id": "0275fa83",
   "metadata": {},
   "source": [
    "### Define U-net"
   ]
  },
  {
   "cell_type": "code",
   "execution_count": 21,
   "id": "0f822795",
   "metadata": {},
   "outputs": [],
   "source": [
    "from keras.models import Model\n",
    "from keras.layers import Input, Conv2D, MaxPooling2D, UpSampling2D, concatenate, Conv2DTranspose, BatchNormalization, Dropout, Lambda\n",
    "from keras.optimizers import Adam\n",
    "from keras.layers import Activation, MaxPool2D, Concatenate"
   ]
  },
  {
   "cell_type": "code",
   "execution_count": 22,
   "id": "abdc929b",
   "metadata": {},
   "outputs": [],
   "source": [
    "# credit: https://www.youtube.com/watch?v=oBIkr7CAE6g&t=498s\n",
    "def conv_block(input, num_filters):\n",
    "    x = Conv2D(num_filters, 3, padding=\"same\")(input)\n",
    "    x = BatchNormalization()(x) # not in the original network\n",
    "    x = Activation('relu')(x)\n",
    "    \n",
    "    x = Conv2D(num_filters, 3, padding=\"same\")(x)\n",
    "    x = BatchNormalization()(x) # not in the original network\n",
    "    x = Activation('relu')(x)\n",
    "\n",
    "    return x\n",
    "\n",
    "# Encoder block: Conv block followed by maxpooling\n",
    "def encoder_block(input, num_filters):\n",
    "    x = conv_block(input, num_filters)\n",
    "    p = MaxPool2D((2, 2))(x)\n",
    "    return x, p\n",
    "\n",
    "\n",
    "# Decoder block\n",
    "# skip_features gets input from encoder for concatenation\n",
    "def decoder_block(input, skip_features, num_filters):\n",
    "    x = Conv2DTranspose(num_filters, (2, 2), strides=2, padding=\"same\")(input)\n",
    "    x = Concatenate()([x, skip_features])\n",
    "    x = conv_block(x, num_filters)\n",
    "    return x\n",
    "\n",
    "# Build Unet\n",
    "def build_unet(input_shape, n_classes):\n",
    "    inputs = Input(input_shape)\n",
    "\n",
    "    s1, p1 = encoder_block(inputs, 64)\n",
    "    s2, p2 = encoder_block(p1, 128)\n",
    "    s3, p3 = encoder_block(p2, 256)\n",
    "    s4, p4 = encoder_block(p3, 512)\n",
    "\n",
    "    b1 = conv_block(p4, 1025) # bridge\n",
    "\n",
    "    d1 = decoder_block(b1, s4, 512)\n",
    "    d2 = decoder_block(d1, s3, 256)\n",
    "    d3 = decoder_block(d2, s2, 128)\n",
    "    d4 = decoder_block(d3, s1, 64)\n",
    "\n",
    "    if n_classes == 1:\n",
    "        activation = \"sigmoid\"\n",
    "    else:\n",
    "        activation = \"softmax\"\n",
    "    \n",
    "    outputs = Conv2D(n_classes, 1, padding=\"same\", activation=activation)(d4) \n",
    "\n",
    "    model = Model(inputs, outputs, name=\"U-Net\")\n",
    "    return model"
   ]
  },
  {
   "cell_type": "markdown",
   "id": "ada76244",
   "metadata": {},
   "source": [
    "### Train the model\n"
   ]
  },
  {
   "cell_type": "code",
   "execution_count": 23,
   "id": "ee913c46",
   "metadata": {},
   "outputs": [
    {
     "data": {
      "text/plain": [
       "5"
      ]
     },
     "execution_count": 23,
     "metadata": {},
     "output_type": "execute_result"
    }
   ],
   "source": [
    "CLASSES = len(utils.MAPPING)\n",
    "CLASSES"
   ]
  },
  {
   "cell_type": "code",
   "execution_count": 24,
   "id": "091db779-7401-4a22-b831-bb92f9ac46ff",
   "metadata": {},
   "outputs": [],
   "source": [
    "# credit: https://github.com/tensorflow/tensorflow/issues/32875\n",
    "# because the default implementation can't work, have to \n",
    "# implement ourselves\n",
    "class UpdatedMeanIoU(tf.keras.metrics.MeanIoU):\n",
    "    def __init__(self, y_true=None, y_pred=None, num_classes=None, name=None, dtype=None):\n",
    "        super(UpdatedMeanIoU, self).__init__(num_classes=num_classes, name=name, dtype=dtype)\n",
    "\n",
    "    def update_state(self, y_true, y_pred, sample_weight=None):\n",
    "        y_pred = tf.math.argmax(y_pred, axis=-1)\n",
    "        return super().update_state(y_true, y_pred, sample_weight)"
   ]
  },
  {
   "cell_type": "code",
   "execution_count": 25,
   "id": "80372fa0-9514-4bf1-b495-e59d917a90ae",
   "metadata": {},
   "outputs": [],
   "source": [
    "class UpdatedIoU(tf.keras.metrics.IoU):\n",
    "    def __init__(self, y_true=None, y_pred=None, num_classes=None, target_class_ids=None, name=None, dtype=None):\n",
    "        super(UpdatedIoU, self).__init__(num_classes=num_classes, target_class_ids=target_class_ids, name=name, dtype=dtype)\n",
    "\n",
    "    def update_state(self, y_true, y_pred, sample_weight=None):\n",
    "        y_pred = tf.math.argmax(y_pred, axis=-1)\n",
    "        return super().update_state(y_true, y_pred, sample_weight)"
   ]
  },
  {
   "cell_type": "code",
   "execution_count": 29,
   "id": "e6ca8326",
   "metadata": {},
   "outputs": [],
   "source": [
    "model = build_unet((128, 128, 1), n_classes=CLASSES)\n",
    "model.compile(\n",
    "    optimizer='adam', \n",
    "    loss=tf.keras.losses.SparseCategoricalCrossentropy(),\n",
    "    metrics=[\"accuracy\",\n",
    "             UpdatedMeanIoU(num_classes=CLASSES),\n",
    "             UpdatedIoU(num_classes=CLASSES, target_class_ids=[0, 1, 2, 3, 4])]\n",
    ")\n",
    "# model.summary()"
   ]
  },
  {
   "cell_type": "code",
   "execution_count": 30,
   "id": "02824991",
   "metadata": {},
   "outputs": [
    {
     "name": "stdout",
     "output_type": "stream",
     "text": [
      "Epoch 1/10\n"
     ]
    },
    {
     "name": "stderr",
     "output_type": "stream",
     "text": [
      "2022-10-31 14:59:18.392266: I tensorflow/stream_executor/cuda/cuda_dnn.cc:384] Loaded cuDNN version 8100\n",
      "2022-10-31 14:59:19.297277: W tensorflow/stream_executor/gpu/asm_compiler.cc:111] *** WARNING *** You are using ptxas 10.1.243, which is older than 11.1. ptxas before 11.1 is known to miscompile XLA code, leading to incorrect results or invalid-address errors.\n",
      "\n",
      "You may not need to update to CUDA 11.1; cherry-picking the ptxas binary is often sufficient.\n",
      "2022-10-31 14:59:19.298491: W tensorflow/stream_executor/gpu/asm_compiler.cc:230] Falling back to the CUDA driver for PTX compilation; ptxas does not support CC 8.6\n",
      "2022-10-31 14:59:19.298517: W tensorflow/stream_executor/gpu/asm_compiler.cc:233] Used ptxas at ptxas\n",
      "2022-10-31 14:59:19.298560: W tensorflow/stream_executor/gpu/redzone_allocator.cc:314] UNIMPLEMENTED: ptxas ptxas too old. Falling back to the driver to compile.\n",
      "Relying on driver to perform ptx compilation. \n",
      "Modify $PATH to customize ptxas location.\n",
      "This message will be only logged once.\n",
      "2022-10-31 14:59:21.474788: I tensorflow/stream_executor/cuda/cuda_blas.cc:1614] TensorFloat-32 will be used for the matrix multiplication. This will only be logged once.\n"
     ]
    },
    {
     "name": "stdout",
     "output_type": "stream",
     "text": [
      "51/51 [==============================] - 27s 321ms/step - loss: 0.6529 - accuracy: 0.8571 - updated_mean_io_u_1: 0.2646 - updated_io_u_1: 0.2646 - val_loss: 167.0260 - val_accuracy: 0.2018 - val_updated_mean_io_u_1: 0.0416 - val_updated_io_u_1: 0.0416\n",
      "Epoch 2/10\n",
      "51/51 [==============================] - 11s 224ms/step - loss: 0.3766 - accuracy: 0.8886 - updated_mean_io_u_1: 0.2816 - updated_io_u_1: 0.2816 - val_loss: 0.8109 - val_accuracy: 0.7875 - val_updated_mean_io_u_1: 0.2625 - val_updated_io_u_1: 0.2625\n",
      "Epoch 3/10\n",
      "51/51 [==============================] - 11s 223ms/step - loss: 0.3187 - accuracy: 0.8918 - updated_mean_io_u_1: 0.4738 - updated_io_u_1: 0.4738 - val_loss: 1.0390 - val_accuracy: 0.7875 - val_updated_mean_io_u_1: 0.2625 - val_updated_io_u_1: 0.2625\n",
      "Epoch 4/10\n",
      "51/51 [==============================] - 11s 223ms/step - loss: 0.2928 - accuracy: 0.8966 - updated_mean_io_u_1: 0.4792 - updated_io_u_1: 0.4792 - val_loss: 1.0555 - val_accuracy: 0.7875 - val_updated_mean_io_u_1: 0.2625 - val_updated_io_u_1: 0.2625\n",
      "Epoch 5/10\n",
      "51/51 [==============================] - 12s 234ms/step - loss: 0.2851 - accuracy: 0.8984 - updated_mean_io_u_1: 0.4830 - updated_io_u_1: 0.4830 - val_loss: 0.9494 - val_accuracy: 0.7875 - val_updated_mean_io_u_1: 0.2625 - val_updated_io_u_1: 0.2625\n",
      "Epoch 6/10\n",
      "51/51 [==============================] - 12s 230ms/step - loss: 0.2603 - accuracy: 0.9050 - updated_mean_io_u_1: 0.4914 - updated_io_u_1: 0.4914 - val_loss: 1.1524 - val_accuracy: 0.7889 - val_updated_mean_io_u_1: 0.2651 - val_updated_io_u_1: 0.2651\n",
      "Epoch 7/10\n",
      "51/51 [==============================] - 11s 224ms/step - loss: 0.2551 - accuracy: 0.9076 - updated_mean_io_u_1: 0.4962 - updated_io_u_1: 0.4962 - val_loss: 0.7362 - val_accuracy: 0.7991 - val_updated_mean_io_u_1: 0.2854 - val_updated_io_u_1: 0.2854\n",
      "Epoch 8/10\n",
      "51/51 [==============================] - 11s 223ms/step - loss: 0.2469 - accuracy: 0.9091 - updated_mean_io_u_1: 0.4986 - updated_io_u_1: 0.4986 - val_loss: 0.6296 - val_accuracy: 0.8018 - val_updated_mean_io_u_1: 0.2907 - val_updated_io_u_1: 0.2907\n",
      "Epoch 9/10\n",
      "51/51 [==============================] - 11s 223ms/step - loss: 0.2420 - accuracy: 0.9102 - updated_mean_io_u_1: 0.5015 - updated_io_u_1: 0.5015 - val_loss: 0.4141 - val_accuracy: 0.8221 - val_updated_mean_io_u_1: 0.3302 - val_updated_io_u_1: 0.3302\n",
      "Epoch 10/10\n",
      "51/51 [==============================] - 11s 223ms/step - loss: 0.2377 - accuracy: 0.9114 - updated_mean_io_u_1: 0.5031 - updated_io_u_1: 0.5031 - val_loss: 0.6683 - val_accuracy: 0.8136 - val_updated_mean_io_u_1: 0.3135 - val_updated_io_u_1: 0.3135\n"
     ]
    }
   ],
   "source": [
    "history = model.fit(\n",
    "    X_train, y_train,\n",
    "    batch_size=16, \n",
    "    verbose=1, \n",
    "    epochs=10, \n",
    "    validation_data=(X_test, y_test), \n",
    "    shuffle=False)"
   ]
  },
  {
   "cell_type": "code",
   "execution_count": 31,
   "id": "5d623eb0",
   "metadata": {},
   "outputs": [
    {
     "data": {
      "image/png": "[encoded data removed]",
      "text/plain": [
       "<Figure size 640x480 with 1 Axes>"
      ]
     },
     "metadata": {},
     "output_type": "display_data"
    },
    {
     "data": {
      "image/png": "[encoded data removed]",
      "text/plain": [
       "<Figure size 640x480 with 1 Axes>"
      ]
     },
     "metadata": {},
     "output_type": "display_data"
    }
   ],
   "source": [
    "acc = history.history['accuracy']\n",
    "val_acc = history.history['val_accuracy']\n",
    "loss = history.history['loss']\n",
    "val_loss = history.history['val_loss']\n",
    "\n",
    "epochs = range(1, len(acc) + 1)\n",
    "\n",
    "plt.plot(epochs, acc, label='Training acc')\n",
    "plt.plot(epochs, val_acc, label='Validation acc')\n",
    "plt.title('Training and validation accuracy')\n",
    "plt.legend()\n",
    "\n",
    "plt.figure()\n",
    "\n",
    "plt.plot(epochs, loss, label='Training loss')\n",
    "plt.plot(epochs, val_loss, label='Validation loss')\n",
    "plt.title('Training and validation loss')\n",
    "plt.legend()\n",
    "\n",
    "plt.show()"
   ]
  },
  {
   "cell_type": "code",
   "execution_count": null,
   "id": "f9963ac8-938a-4701-9050-2197ebf05d43",
   "metadata": {},
   "outputs": [],
   "source": [
    "# file_writer = tf.summary.create_file_writer('logs')"
   ]
  },
  {
   "cell_type": "code",
   "execution_count": null,
   "id": "ec89982d",
   "metadata": {},
   "outputs": [],
   "source": [
    "# %tensorboard --logdir logs"
   ]
  },
  {
   "cell_type": "code",
   "execution_count": 33,
   "id": "6cfd7ec8-d2fa-4c66-86a9-eee5ed1e82b3",
   "metadata": {},
   "outputs": [
    {
     "data": {
      "text/plain": [
       "[0.26463621854782104,\n",
       " 0.2816423773765564,\n",
       " 0.473811537027359,\n",
       " 0.4791598618030548,\n",
       " 0.4830106198787689,\n",
       " 0.49141451716423035,\n",
       " 0.49619260430336,\n",
       " 0.49857059121131897,\n",
       " 0.5014808773994446,\n",
       " 0.5030924677848816]"
      ]
     },
     "execution_count": 33,
     "metadata": {},
     "output_type": "execute_result"
    }
   ],
   "source": [
    "history.history['updated_mean_io_u_1']"
   ]
  }
 ],
 "metadata": {
  "kernelspec": {
   "display_name": "Python 3 (ipykernel)",
   "language": "python",
   "name": "python3"
  },
  "language_info": {
   "codemirror_mode": {
    "name": "ipython",
    "version": 3
   },
   "file_extension": ".py",
   "mimetype": "text/x-python",
   "name": "python",
   "nbconvert_exporter": "python",
   "pygments_lexer": "ipython3",
   "version": "3.9.13"
  },
  "vscode": {
   "interpreter": {
    "hash": "9b01161b4847ac171cfc22d366f2fb52ea1d5edd492bd6ebba7353da1471e51a"
   }
  }
 },
 "nbformat": 4,
 "nbformat_minor": 5
}
