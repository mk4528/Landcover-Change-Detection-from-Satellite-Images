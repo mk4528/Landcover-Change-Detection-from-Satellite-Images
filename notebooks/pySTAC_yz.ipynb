{
 "cells": [
  {
   "cell_type": "markdown",
   "id": "25aa3cd7-b85d-4064-b39b-1b72ecf4894f",
   "metadata": {},
   "source": [
    "### Reading STAC files"
   ]
  },
  {
   "cell_type": "code",
   "execution_count": 8,
   "id": "fadfadb2-5050-4192-adab-67888f2e34c0",
   "metadata": {},
   "outputs": [],
   "source": [
    "import json\n",
    "import shutil\n",
    "import tempfile\n",
    "from datetime import date\n",
    "from pathlib import Path\n",
    "\n",
    "from pystac import Catalog, get_stac_version\n",
    "from pystac.extensions.eo import EOExtension\n",
    "from pystac.extensions.label import LabelExtension"
   ]
  },
  {
   "cell_type": "code",
   "execution_count": 9,
   "id": "b5cff335-bee5-4f5a-83da-0288224a4ded",
   "metadata": {},
   "outputs": [
    {
     "name": "stdout",
     "output_type": "stream",
     "text": [
      "ID: 594cb31a-01ea-4da8-965b-dee345c4ce87\n",
      "Title: N/A\n",
      "Description: Exported from Groundwork 2022-10-14T22:59:50.745Z for campaign Capstone\n"
     ]
    }
   ],
   "source": [
    "root_catalog = Catalog.from_file('data/catalog/catalog.json')\n",
    "print(f\"ID: {root_catalog.id}\")\n",
    "print(f\"Title: {root_catalog.title or 'N/A'}\")\n",
    "print(f\"Description: {root_catalog.description or 'N/A'}\")"
   ]
  },
  {
   "cell_type": "code",
   "execution_count": 10,
   "id": "2faf57d2-9e70-4dd1-aafc-409e389f598b",
   "metadata": {},
   "outputs": [
    {
     "name": "stdout",
     "output_type": "stream",
     "text": [
      "1.0.0\n"
     ]
    }
   ],
   "source": [
    "print(get_stac_version())"
   ]
  },
  {
   "cell_type": "code",
   "execution_count": 11,
   "id": "c5897418-4095-4afd-ba69-4b627f8d0698",
   "metadata": {},
   "outputs": [
    {
     "name": "stdout",
     "output_type": "stream",
     "text": [
      "Number of collections: 2\n",
      "Collections IDs:\n",
      "- scenes-46cd7f39-c603-4cfa-bfeb-503ea42bd609\n",
      "- labels-77d57aaf-da86-4f24-9f5c-dbf4c7ebd28d\n"
     ]
    }
   ],
   "source": [
    "collections = list(root_catalog.get_collections())\n",
    "\n",
    "print(f\"Number of collections: {len(collections)}\")\n",
    "print(\"Collections IDs:\")\n",
    "for collection in collections:\n",
    "    print(f\"- {collection.id}\")"
   ]
  },
  {
   "cell_type": "code",
   "execution_count": 12,
   "id": "4fbe7ed3-e3b9-44c4-af40-b8bc59954587",
   "metadata": {},
   "outputs": [],
   "source": [
    "collection = root_catalog.get_child(\"scenes-46cd7f39-c603-4cfa-bfeb-503ea42bd609\")\n",
    "assert collection is not None"
   ]
  },
  {
   "cell_type": "code",
   "execution_count": 13,
   "id": "6fbeac5d-141a-4f04-8e85-214f8821eea0",
   "metadata": {},
   "outputs": [
    {
     "name": "stdout",
     "output_type": "stream",
     "text": [
      "Number of items: 4\n",
      "- 299852f3-4972-4faf-a385-dacd3e817320\n",
      "- 420720bf-94c1-4f20-8aa6-6d4daa4ce762\n",
      "- a4d9c2f2-c09a-4515-b061-4bb854cb4c44\n",
      "- 0c85e907-3d60-415b-afa7-5fc5f16e69d0\n"
     ]
    }
   ],
   "source": [
    "items = list(root_catalog.get_all_items())\n",
    "\n",
    "print(f\"Number of items: {len(items)}\")\n",
    "for item in items:\n",
    "    print(f\"- {item.id}\")"
   ]
  },
  {
   "cell_type": "code",
   "execution_count": 14,
   "id": "2c098add-4a11-472c-bc5b-0ccf16e25030",
   "metadata": {},
   "outputs": [],
   "source": [
    "# grab the item which corresponds to 3716_naip-2017 in README.md\n",
    "item = root_catalog.get_item(\"a4d9c2f2-c09a-4515-b061-4bb854cb4c44\", recursive=True)"
   ]
  },
  {
   "cell_type": "code",
   "execution_count": 15,
   "id": "01031510-8e1c-49ce-90ad-c3a3a6716799",
   "metadata": {},
   "outputs": [
    {
     "data": {
      "text/plain": [
       "{'type': 'Polygon',\n",
       " 'coordinates': [[[-76.45064833883964, 38.218334674827766],\n",
       "   [-76.45064837840813, 38.21833499046275],\n",
       "   [-76.45064837840813, 38.25361421185205],\n",
       "   [-76.45064833883964, 38.25361452733395],\n",
       "   [-76.4506479370941, 38.2536145584062],\n",
       "   [-76.40573305551618, 38.2536145584062],\n",
       "   [-76.40573265377064, 38.25361452733395],\n",
       "   [-76.40573261420215, 38.25361421185205],\n",
       "   [-76.40573261420215, 38.21833499046275],\n",
       "   [-76.40573265377064, 38.218334674827766],\n",
       "   [-76.40573305551618, 38.21833464374043],\n",
       "   [-76.4506479370941, 38.21833464374043],\n",
       "   [-76.45064833883964, 38.218334674827766]]]}"
      ]
     },
     "execution_count": 15,
     "metadata": {},
     "output_type": "execute_result"
    }
   ],
   "source": [
    "item.geometry"
   ]
  },
  {
   "cell_type": "code",
   "execution_count": 16,
   "id": "b070111c-8da1-4577-b069-d2fde266b476",
   "metadata": {},
   "outputs": [
    {
     "data": {
      "text/plain": [
       "[-76.45064837840813, 38.21833464374043, -76.40573261420215, 38.2536145584062]"
      ]
     },
     "execution_count": 16,
     "metadata": {},
     "output_type": "execute_result"
    }
   ],
   "source": [
    "item.bbox"
   ]
  },
  {
   "cell_type": "code",
   "execution_count": 17,
   "id": "c5ba7119-77da-4893-b8b1-f3d21d40324f",
   "metadata": {},
   "outputs": [
    {
     "data": {
      "text/plain": [
       "datetime.datetime(2022, 10, 14, 22, 59, 51, 534000, tzinfo=tzutc())"
      ]
     },
     "execution_count": 17,
     "metadata": {},
     "output_type": "execute_result"
    }
   ],
   "source": [
    "item.datetime"
   ]
  },
  {
   "cell_type": "code",
   "execution_count": 18,
   "id": "d96787fb-3405-4c20-82a5-ec19f4411fb6",
   "metadata": {},
   "outputs": [
    {
     "data": {
      "text/plain": [
       "'labels-77d57aaf-da86-4f24-9f5c-dbf4c7ebd28d'"
      ]
     },
     "execution_count": 18,
     "metadata": {},
     "output_type": "execute_result"
    }
   ],
   "source": [
    "item.collection_id"
   ]
  },
  {
   "cell_type": "code",
   "execution_count": 19,
   "id": "d5465799-220a-4727-aef0-11a605691462",
   "metadata": {},
   "outputs": [
    {
     "data": {
      "text/plain": [
       "['https://raw.githubusercontent.com/stac-extensions/label/v1.0.0/json-schema/schema.json']"
      ]
     },
     "execution_count": 19,
     "metadata": {},
     "output_type": "execute_result"
    }
   ],
   "source": [
    "item.stac_extensions"
   ]
  },
  {
   "cell_type": "code",
   "execution_count": 20,
   "id": "66a4298f-d809-4c90-a2b1-8bb878d738c5",
   "metadata": {},
   "outputs": [
    {
     "data": {
      "text/plain": [
       "False"
      ]
     },
     "execution_count": 20,
     "metadata": {},
     "output_type": "execute_result"
    }
   ],
   "source": [
    "EOExtension.has_extension(item)"
   ]
  },
  {
   "cell_type": "code",
   "execution_count": 21,
   "id": "38db7c94-75c6-495e-8ffb-cab0b9be524a",
   "metadata": {},
   "outputs": [
    {
     "data": {
      "text/plain": [
       "False"
      ]
     },
     "execution_count": 21,
     "metadata": {},
     "output_type": "execute_result"
    }
   ],
   "source": [
    "LabelExtension.has_extension(item)"
   ]
  }
 ],
 "metadata": {
  "kernelspec": {
   "display_name": "Python 3 (ipykernel)",
   "language": "python",
   "name": "python3"
  },
  "language_info": {
   "codemirror_mode": {
    "name": "ipython",
    "version": 3
   },
   "file_extension": ".py",
   "mimetype": "text/x-python",
   "name": "python",
   "nbconvert_exporter": "python",
   "pygments_lexer": "ipython3",
   "version": "3.9.13"
  }
 },
 "nbformat": 4,
 "nbformat_minor": 5
}
